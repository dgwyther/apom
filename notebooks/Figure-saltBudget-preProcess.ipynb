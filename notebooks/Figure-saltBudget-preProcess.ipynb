{
 "cells": [
  {
   "cell_type": "code",
   "execution_count": 1,
   "id": "21c1393f-6c64-4914-844d-45375de986d0",
   "metadata": {},
   "outputs": [
    {
     "name": "stdout",
     "output_type": "stream",
     "text": [
      "/g/data/jk72/deg581/apom/ana/notebooks\n"
     ]
    }
   ],
   "source": [
    "cd /g/data/jk72/deg581/apom/ana/notebooks"
   ]
  },
  {
   "cell_type": "code",
   "execution_count": 2,
   "id": "aa278b61-e807-4aee-b8e2-45b64a776e25",
   "metadata": {},
   "outputs": [],
   "source": [
    "# load modules\n",
    "## Data processing and DA modules\n",
    "import numpy as np\n",
    "import scipy.io as sio\n",
    "import matplotlib.pyplot as plt\n",
    "import matplotlib.gridspec as gridspec\n",
    "from mpl_toolkits.axes_grid1.inset_locator import inset_axes, zoomed_inset_axes\n",
    "import matplotlib.ticker as mticker\n",
    "\n",
    "## Dealing with big data and netcdf\n",
    "import xarray as xr\n",
    "from netCDF4 import Dataset\n",
    "## ROMS packages\n",
    "from xgcm import Grid\n",
    "## color maps\n",
    "import cmaps\n",
    "import cmocean\n",
    "## mapping packages\n",
    "import cartopy.crs as ccrs\n",
    "import cartopy.feature as cfeature\n",
    "## System tools and python configuration\n",
    "import os\n",
    "import glob\n",
    "import repackage\n",
    "repackage.add('../../')\n",
    "repackage.add('../')\n",
    "\n",
    "\n",
    "## fro mFabio\n",
    "from datetime import datetime, timedelta\n",
    "\n",
    "\n",
    "from dask.distributed import Client\n",
    "import logging\n",
    "import warnings\n",
    "warnings.filterwarnings('ignore')"
   ]
  },
  {
   "cell_type": "code",
   "execution_count": 3,
   "id": "c941e183-926b-4071-8d20-bdf3bd082617",
   "metadata": {
    "tags": []
   },
   "outputs": [
    {
     "name": "stdout",
     "output_type": "stream",
     "text": [
      "<Client: 'tcp://127.0.0.1:37469' processes=28 threads=28>\n"
     ]
    }
   ],
   "source": [
    "client = Client(threads_per_worker=1, memory_limit=0, silence_logs=logging.ERROR)\n",
    "print(client)"
   ]
  },
  {
   "cell_type": "code",
   "execution_count": 4,
   "id": "94356d7b-2646-4a84-b12a-4c70963445de",
   "metadata": {},
   "outputs": [],
   "source": [
    "# # load single ROMS netcdf with xr\n",
    "# # ds = xr.open_dataset('../data/proc/roms_v11_TotOptions_his_0003_5daymn.nc')\n",
    "# ds = xr.open_dataset('../data/proc/roms_v11_ctrl_his_0011-13_5daymn_full.nc')\n",
    "# ds"
   ]
  },
  {
   "cell_type": "code",
   "execution_count": 5,
   "id": "147ea5ca-0232-41a1-949b-2ec923cadc01",
   "metadata": {},
   "outputs": [],
   "source": [
    "# load single ROMS netcdf with xr\n",
    "# ds = xr.open_dataset('/g/data/jk72/deg581/apom/ana/data/proc/roms_v11_ctrl_dia_0018-19_5daymn_full.nc')\n",
    "data_set_path = '/g/data/jk72/deg581/apom/mdl/amery_hr_repeatyear_v11_ctrl_diags/roms_dia_0018.nc'\n",
    "ds = xr.open_dataset(data_set_path)\n",
    "\n",
    "grd = xr.open_dataset('/g/data/jk72/deg581/apom/frc/amery_v2km_v12_grd.nc')\n",
    "\n",
    "grd['hc']=ds.hc\n",
    "grd['s_w']=ds.s_w\n",
    "grd['s_rho']=ds.s_rho\n",
    "grd['Cs_w']=ds.Cs_w\n",
    "grd['Cs_r']=ds.Cs_r\n",
    "\n",
    "grd = grd.assign_coords({\"x_rho\": grd.x_rho})\n",
    "grd = grd.assign_coords({\"y_rho\": grd.y_rho})\n",
    "grd = grd.assign_coords({\"lon_rho\": grd.lon_rho})\n",
    "grd = grd.assign_coords({\"lat_rho\": grd.lat_rho})\n",
    "\n",
    "# ds_raw = ds_raw.assign_coords(lon_rho=grd.lon_rho)\n",
    "# ds_raw = ds_raw.assign_coords(lat_rho=grd.lat_rho)\n",
    "\n",
    "grd['mask_zice'] = (grd.mask_rho.where(grd.zice<0)==1) # make a logic mask for ice\n",
    "grd['mask_zice_nan'] = (grd.mask_rho.where(grd.zice<0)==1).where(grd.mask_rho.where(grd.zice<0)==1) # make a mask where non-ice is nan\n",
    "\n",
    "def loadDataSet(path):\n",
    "    ds = xr.open_dataset(path)\n",
    "    return ds\n",
    "\n",
    "grd.to_netcdf('../data/proc/amery_v11_ctrl_diags_grd.nc')"
   ]
  },
  {
   "cell_type": "code",
   "execution_count": 6,
   "id": "606e22ee-3e35-4096-bb46-a0f6d88c6b6a",
   "metadata": {
    "tags": []
   },
   "outputs": [],
   "source": [
    "# ds = loadDataSet(data_set_path)\n",
    "# ds_salt_rate = ds['salt_rate']\n",
    "# ds_salt_rate.load()\n",
    "# print('loaded ',ds_salt_rate.nbytes/1e9,'G')"
   ]
  },
  {
   "cell_type": "code",
   "execution_count": 7,
   "id": "5d82c4cb-c481-4dac-802e-a13b831f74e0",
   "metadata": {},
   "outputs": [
    {
     "name": "stdout",
     "output_type": "stream",
     "text": [
      "saving  30.5505 G\n",
      "saving  30.5505 G\n",
      "saving  30.5505 G\n",
      "saving  30.5505 G\n",
      "CPU times: user 4min 41s, sys: 6min 12s, total: 10min 54s\n",
      "Wall time: 13min 13s\n"
     ]
    }
   ],
   "source": [
    "%%time\n",
    "\n",
    "ds = loadDataSet(data_set_path)\n",
    "salt_hadv = ds['salt_hadv']\n",
    "print('saving ',salt_hadv.nbytes/1e9,'G')\n",
    "salt_hadv.to_netcdf('../data/proc/amery_v11_ctrl_diags_salt_hadv.nc')\n",
    "\n",
    "ds = loadDataSet(data_set_path)\n",
    "salt_vadv = ds['salt_vadv']\n",
    "print('saving ',salt_vadv.nbytes/1e9,'G')\n",
    "salt_vadv.to_netcdf('../data/proc/amery_v11_ctrl_diags_salt_vadv.nc')\n",
    "\n",
    "ds = loadDataSet(data_set_path)\n",
    "salt_hdiff = ds['salt_hdiff']\n",
    "print('saving ',salt_hdiff.nbytes/1e9,'G')\n",
    "salt_hdiff.to_netcdf('../data/proc/amery_v11_ctrl_diags_salt_hdiff.nc')\n",
    "\n",
    "ds = loadDataSet(data_set_path)\n",
    "salt_vdiff = ds['salt_vdiff']\n",
    "print('saving ',salt_vdiff.nbytes/1e9,'G')\n",
    "salt_vdiff.to_netcdf('../data/proc/amery_v11_ctrl_diags_salt_vdiff.nc')\n",
    "\n",
    "# ds = loadDataSet(data_set_path)\n",
    "# ds_salt_rate = ds['salt_rate']\n",
    "# ds_salt_rate.load()\n",
    "# print('loaded ',ds_salt_rate.nbytes/1e9,'G')"
   ]
  },
  {
   "cell_type": "code",
   "execution_count": 8,
   "id": "efe15d55-f19a-4b67-9eaf-f78f15745de2",
   "metadata": {
    "tags": []
   },
   "outputs": [
    {
     "name": "stdout",
     "output_type": "stream",
     "text": [
      "saving  0.9855 G\n",
      "CPU times: user 2.85 s, sys: 3.44 s, total: 6.28 s\n",
      "Wall time: 8.09 s\n"
     ]
    }
   ],
   "source": [
    "%%time\n",
    "ds = loadDataSet(data_set_path)\n",
    "zeta = ds['zeta']\n",
    "print('saving ',zeta.nbytes/1e9,'G')\n",
    "zeta.to_netcdf('../data/proc/amery_v11_ctrl_diags_zeta.nc')\n"
   ]
  },
  {
   "cell_type": "code",
   "execution_count": 9,
   "id": "e4c3cb64-94b0-4873-865e-a385abe4c66b",
   "metadata": {
    "tags": []
   },
   "outputs": [
    {
     "name": "stdout",
     "output_type": "stream",
     "text": [
      "(365, 750, 900, 32) (365, 32, 750, 900)\n",
      "CPU times: user 2min 6s, sys: 3min 54s, total: 6min 1s\n",
      "Wall time: 5min 22s\n"
     ]
    }
   ],
   "source": [
    "%%time\n",
    "hwater = grd.h- abs(grd.zice) # replace ds.h for hwater below\n",
    "Zo_rho = (grd.hc * grd.s_rho + grd.Cs_r * hwater) / (grd.hc + hwater)\n",
    "z_rho = zeta + (zeta + hwater) * Zo_rho \n",
    "\n",
    "Zo_w = (grd.hc * grd.s_w + grd.Cs_w * hwater) / (grd.hc + hwater)\n",
    "z_w = zeta + (zeta + hwater) * Zo_w \n",
    "\n",
    "\n",
    "Z_w = z_w.transpose('ocean_time','s_w','eta_rho','xi_rho')\n",
    "print(z_w.shape, Z_w.shape)\n",
    "dz = np.diff(Z_w,axis=1)"
   ]
  },
  {
   "cell_type": "code",
   "execution_count": 61,
   "id": "2aee68f9-aec3-456d-9f07-b70681070e5c",
   "metadata": {},
   "outputs": [
    {
     "name": "stdout",
     "output_type": "stream",
     "text": [
      "saving  61.101 G\n",
      "CPU times: user 11.6 s, sys: 1min 19s, total: 1min 30s\n",
      "Wall time: 1min 17s\n"
     ]
    }
   ],
   "source": [
    "%%time\n",
    "\n",
    "da_dz = xr.DataArray(dz,\n",
    "                     dims={'ocean_time','s_rho','eta_rho','xi_rho'})\n",
    "print('saving ',da_dz.nbytes/1e9,'G')\n",
    "da_dz = da_dz.rename({'xi_rho': 'temp', 'eta_rho': 'xi_rho'}).rename({'temp': 'eta_rho'}) # I have no idea why I need to do this.\n",
    "da_dz.to_netcdf('../data/proc/amery_v11_ctrl_diags_dz.nc')\n"
   ]
  },
  {
   "cell_type": "code",
   "execution_count": null,
   "id": "69271b2e-5ead-469c-a511-bf173f12dbd1",
   "metadata": {
    "tags": []
   },
   "outputs": [],
   "source": [
    "%%time \n",
    "\n",
    "salt_hadv_dz = salt_hadv*da_dz\n",
    "print('saving salt_hadv_dz ',salt_hadv_dz.nbytes/1e9,'G')\n",
    "salt_hadv_dz.to_netcdf('../data/proc/amery_v11_ctrl_diags_salt_hadv_dz.nc')\n",
    "\n",
    "\n",
    "salt_vadv_dz = salt_vadv*da_dz\n",
    "print('saving salt_vadv_dz ',salt_vadv_dz.nbytes/1e9,'G')\n",
    "salt_vadv_dz.to_netcdf('../data/proc/amery_v11_ctrl_diags_salt_vadv_dz.nc')\n",
    "\n",
    "salt_hdiff_dz = salt_hdiff*da_dz\n",
    "print('saving salt_hdiff_dz ',salt_hdiff_dz.nbytes/1e9,'G')\n",
    "salt_hdiff_dz.to_netcdf('../data/proc/amery_v11_ctrl_diags_salt_hdiff_dz.nc')\n",
    "\n",
    "salt_vdiff_dz = salt_vdiff*da_dz\n",
    "print('saving salt_vdiff_dz ',salt_hadv_dz.nbytes/1e9,'G')\n",
    "salt_vdiff_dz.to_netcdf('../data/proc/amery_v11_ctrl_diags_salt_vdiff_dz.nc')\n"
   ]
  },
  {
   "cell_type": "code",
   "execution_count": 11,
   "id": "6aec81d7-3a03-4fd1-8126-4a3642630521",
   "metadata": {},
   "outputs": [
    {
     "ename": "NameError",
     "evalue": "name 'STOP' is not defined",
     "output_type": "error",
     "traceback": [
      "\u001b[0;31m---------------------------------------------------------------------------\u001b[0m",
      "\u001b[0;31mNameError\u001b[0m                                 Traceback (most recent call last)",
      "Cell \u001b[0;32mIn[11], line 1\u001b[0m\n\u001b[0;32m----> 1\u001b[0m STOP\n",
      "\u001b[0;31mNameError\u001b[0m: name 'STOP' is not defined"
     ]
    }
   ],
   "source": [
    "STOP"
   ]
  },
  {
   "cell_type": "code",
   "execution_count": null,
   "id": "9171f5bd-f2e8-41ab-9143-b0b42109ea2b",
   "metadata": {},
   "outputs": [],
   "source": [
    "del zeta, Z_w, hwater, z_w\n",
    "ds.close()"
   ]
  },
  {
   "cell_type": "code",
   "execution_count": null,
   "id": "c9adbf2b-63cc-4da3-9fc8-bfc75c88e82b",
   "metadata": {},
   "outputs": [],
   "source": [
    "%%time \n",
    "\n",
    "salt_hadv_dz = salt_hadv*dz\n",
    "print('loaded salt_hadv_dz ',salt_hadv_dz.nbytes/1e9,'G')\n",
    "del salt_hadv\n",
    "\n",
    "salt_vadv_dz = salt_vadv*dz\n",
    "print('loaded salt_vadv_dz ',salt_hadv_dz.nbytes/1e9,'G')\n",
    "del salt_vadv\n",
    "\n",
    "salt_hdiff_dz = salt_hdiff*dz\n",
    "print('loaded salt_hdiff_dz ',salt_hadv_dz.nbytes/1e9,'G')\n",
    "del salt_hdiff\n",
    "\n",
    "salt_vdiff_dz = salt_vdiff*dz\n",
    "print('loaded salt_vdiff_dz ',salt_hadv_dz.nbytes/1e9,'G')\n",
    "\n",
    "del salt_vdiff,dz"
   ]
  },
  {
   "cell_type": "code",
   "execution_count": null,
   "id": "045eb9fc-7131-4606-8da6-8e89ff670fbc",
   "metadata": {
    "tags": []
   },
   "outputs": [],
   "source": [
    "# %%time\n",
    "\n",
    "# # calculate dz\n",
    "\n",
    "# ds = loadDataSet(data_set_path)\n",
    "\n",
    "# print(\"Vtransform=2\")\n",
    "# #  New formulation (Vtransform(ng) = 2):\n",
    "# #\n",
    "# #         z_w(x,y,s,t) = zeta(x,y,t) + [zeta(x,y,t)+ h(x,y)] * Zo_w\n",
    "# #                 Zo_w = [hc * s(k) + C(k) * h(x,y)] / [hc + h(x,y)]\n",
    "# hwater = ds.h- abs(ds.zice) # replace ds.h for hwater below\n",
    "# Zo_rho = (ds.hc * ds.s_rho + ds.Cs_r * hwater) / (ds.hc + hwater)\n",
    "# z_rho = ds.zeta + (ds.zeta + hwater) * Zo_rho \n",
    "\n",
    "# Zo_w = (ds.hc * ds.s_w + ds.Cs_w * hwater) / (ds.hc + hwater)\n",
    "# z_w = ds.zeta + (ds.zeta + hwater) * Zo_w \n",
    "\n",
    "# ds.close()\n",
    "\n",
    "\n",
    "# Z_w = z_w.transpose('ocean_time','s_w','eta_rho','xi_rho')\n",
    "# print(z_w.shape, Z_w.shape)\n",
    "# dz = np.diff(Z_w,axis=1)\n",
    "\n",
    "# # dz.load()"
   ]
  },
  {
   "cell_type": "code",
   "execution_count": null,
   "id": "094ab2e7-1518-494d-8468-2935f098c7fd",
   "metadata": {},
   "outputs": [],
   "source": [
    "# %%time\n",
    "\n",
    "# ds = loadDataSet(data_set_path)\n",
    "# salt_hadv = ds['salt_hadv']\n",
    "# salt_hadv.load()\n",
    "# print('loaded ',salt_hadv.nbytes/1e9,'G')\n",
    "\n",
    "# ds = loadDataSet(data_set_path)\n",
    "# salt_vadv = ds['salt_vadv']\n",
    "# salt_vadv.load()\n",
    "# print('loaded ',salt_vadv.nbytes/1e9,'G')\n",
    "\n",
    "# ds = loadDataSet(data_set_path)\n",
    "# salt_hdiff = ds['salt_hdiff']\n",
    "# salt_hdiff.load()\n",
    "# print('loaded ',salt_hdiff.nbytes/1e9,'G')\n",
    "\n",
    "# ds = loadDataSet(data_set_path)\n",
    "# salt_vdiff = ds['salt_vdiff']\n",
    "# salt_vdiff.load()\n",
    "# print('loaded ',salt_vdiff.nbytes/1e9,'G')\n",
    "\n",
    "# # ds = loadDataSet(data_set_path)\n",
    "# # salt_rate = ds['salt_rate']\n",
    "# # salt_rate.load()\n",
    "# # print('loaded ',salt_rate.nbytes/1e9,'G')"
   ]
  },
  {
   "cell_type": "code",
   "execution_count": null,
   "id": "8d05471e-78b0-4525-9499-7b9b36fdf3ea",
   "metadata": {},
   "outputs": [],
   "source": [
    "# %%time \n",
    "\n",
    "# salt_hadv_dz = salt_hadv*dz\n",
    "\n",
    "# salt_vadv_dz = salt_vadv*dz\n",
    "\n",
    "# salt_hdiff_dz = salt_hdiff*dz\n",
    "\n",
    "# salt_vdiff_dz = salt_vdiff*dz\n"
   ]
  },
  {
   "cell_type": "code",
   "execution_count": null,
   "id": "75a7ff9b-5d57-40b0-9502-b704ca652226",
   "metadata": {
    "tags": []
   },
   "outputs": [],
   "source": [
    "# ds = ds.drop_vars(['temp_xadv','temp_yadv','temp_xdiff','temp_ydiff','salt_xadv','salt_yadv','salt_xdiff','salt_ydiff','temp_sdiff','salt_sdiff'])\n",
    "# ds = ds.drop_vars(['temp_rate','temp_hadv','temp_vadv','temp_hdiff','temp_vdiff','zeta'])\n",
    "# print(ds.nbytes/1e9,'G')\n",
    "# ds"
   ]
  },
  {
   "cell_type": "code",
   "execution_count": null,
   "id": "6f22b7cc-22b5-4d6c-993e-cfb07f34c5e4",
   "metadata": {},
   "outputs": [],
   "source": [
    "# # chop in time, selecting a smaller segment\n",
    "# ds = ds.sel(ocean_time=slice('2023-01-01','2025-01-01'))"
   ]
  },
  {
   "cell_type": "code",
   "execution_count": null,
   "id": "f5921703-4b87-4909-97e7-accd38fbb164",
   "metadata": {
    "tags": []
   },
   "outputs": [],
   "source": []
  },
  {
   "cell_type": "code",
   "execution_count": null,
   "id": "84dc0032-45fe-439b-ae87-8762a78a5021",
   "metadata": {},
   "outputs": [],
   "source": [
    "# make masks\n",
    "\n",
    "# now make a ROI mask(s)\n",
    "# plt.figure(figsize=(6,4))\n",
    "# grd.mask_zice.plot(x='x_rho',y='y_rho')\n",
    "# plt.grid()\n",
    "poly_shelf = np.array([\n",
    "    [1.55e6,600000],\n",
    "    [2.25e6,600000],\n",
    "    [2.25e6,800000],\n",
    "    [2.20e6,830000],\n",
    "    [1.55e6,890000]])\n",
    "# plt.plot(poly_shelf[:,0],poly_shelf[:,1])\n",
    "# plt.show()\n",
    "\n",
    "def inpolygon(xq, yq, xv, yv):\n",
    "    from matplotlib import path\n",
    "    shape = xq.shape\n",
    "    xq = xq.reshape(-1)\n",
    "    yq = yq.reshape(-1)\n",
    "    xv = xv.reshape(-1)\n",
    "    yv = yv.reshape(-1)\n",
    "    q = [(xq[i], yq[i]) for i in range(xq.shape[0])]\n",
    "    p = path.Path([(xv[i], yv[i]) for i in range(xv.shape[0])])\n",
    "    return p.contains_points(q).reshape(shape)\n",
    "\n",
    "\n",
    "mask_roi = inpolygon(grd.x_rho.values, grd.y_rho.values,poly_shelf[:,0], poly_shelf[:,1])\n",
    "\n",
    "\n",
    "grd['mask_zice_roi'] = grd.mask_zice*mask_roi\n",
    "# grd.mask_zice_roi.plot()\n",
    "roi_label1 = 'amery'\n",
    "grd.mask_zice_roi.attrs['long_name']=roi_label1\n",
    "\n",
    "weights = (1/grd.pm)*(1/grd.pn)\n",
    "weights.name = \"weights\""
   ]
  },
  {
   "cell_type": "code",
   "execution_count": null,
   "id": "31822104-9de0-44a3-81c1-2d63cead0853",
   "metadata": {},
   "outputs": [],
   "source": []
  },
  {
   "cell_type": "code",
   "execution_count": null,
   "id": "e6f54e98-1058-4bef-803f-5756df84e65c",
   "metadata": {
    "tags": []
   },
   "outputs": [],
   "source": [
    "from matplotlib.patches import Rectangle\n",
    "\n",
    "#%matplotlib widget\n",
    "\n",
    "plt.figure(figsize=(10,10)),\n",
    "# grd.my_doy.mean(dim='dayofyear').plot(x='x_rho',y='y_rho',cmap='RdBu',vmin=0,vmax=10)\n",
    "grd.h.plot.contour(x='x_rho',y='y_rho',levels=(0,100,200,300,400,500),colors='k')\n",
    "(-1*grd.zice*grd.mask_rho).plot.contour(x='x_rho',y='y_rho',levels=(0,1),colors='r')\n",
    "\n",
    "pnt_bl=(2.21e6,.77e6)\n",
    "pnt_tr=(2.28e6,.85e6)\n",
    "\n",
    "plt.gca().add_patch(Rectangle(pnt_bl,pnt_tr[0]-pnt_bl[0],pnt_tr[1]-pnt_bl[1],linewidth=1,edgecolor='r',facecolor='none'))\n",
    "\n",
    "pnt_bl=(2.28e6,.77e6)\n",
    "pnt_tr=(2.34e6,.85e6)\n",
    "\n",
    "plt.gca().add_patch(Rectangle(pnt_bl,pnt_tr[0]-pnt_bl[0],pnt_tr[1]-pnt_bl[1],linewidth=1,edgecolor='r',facecolor='none'))\n",
    "\n",
    "pnt_bl=(2.24e6,.85e6)\n",
    "pnt_tr=(2.34e6,.88e6)\n",
    "\n",
    "plt.gca().add_patch(Rectangle(pnt_bl,pnt_tr[0]-pnt_bl[0],pnt_tr[1]-pnt_bl[1],linewidth=1,edgecolor='r',facecolor='none'))\n",
    "\n",
    "pnt_bl=(2.24e6,.88e6)\n",
    "pnt_tr=(2.34e6,.91e6)\n",
    "\n",
    "plt.gca().add_patch(Rectangle(pnt_bl,pnt_tr[0]-pnt_bl[0],pnt_tr[1]-pnt_bl[1],linewidth=1,edgecolor='r',facecolor='none'))\n",
    "\n",
    "\n",
    "\n",
    "pnt_bl=(2.18e6,.77e6)\n",
    "pnt_tr=(2.21e6,.81e6)\n",
    "\n",
    "plt.gca().add_patch(Rectangle(pnt_bl,pnt_tr[0]-pnt_bl[0],pnt_tr[1]-pnt_bl[1],linewidth=1,edgecolor='r',facecolor='none'))\n",
    "\n",
    "\n",
    "\n",
    "\n",
    "%matplotlib inline"
   ]
  },
  {
   "cell_type": "code",
   "execution_count": null,
   "id": "1c2ae38d-a828-40b3-8fd5-18a395eb5f45",
   "metadata": {},
   "outputs": [],
   "source": [
    "# make masks for salt box\n",
    "\n",
    "pnt_bl=(2.21e6,.77e6)\n",
    "pnt_tr=(2.28e6,.85e6)\n",
    "\n",
    "\n",
    "# make a mask for where we want to include in the average\n",
    "mask_mac = np.zeros_like(grd.lon_rho)\n",
    "mask_mac[(grd.x_rho > pnt_bl[0]) & (grd.x_rho < pnt_tr[0]) & (grd.y_rho > pnt_bl[1]) & (grd.y_rho < pnt_tr[1])]=1\n",
    "\n",
    "plt.pcolormesh(grd.x_rho,grd.y_rho,mask_mac)\n",
    "plt.contour(grd.x_rho,grd.y_rho,grd.h*grd.mask_rho,levels=(0,250,500,750,1000),colors='k')\n",
    "plt.colorbar()\n",
    "plt.show()\n",
    "\n",
    "\n",
    "\n",
    "pnt_bl=(2.28e6,.77e6)\n",
    "pnt_tr=(2.34e6,.85e6)\n",
    "\n",
    "\n",
    "# make a mask for where we want to include in the average\n",
    "mask_cdit = np.zeros_like(grd.lon_rho)\n",
    "mask_cdit[(grd.x_rho > pnt_bl[0]) & (grd.x_rho < pnt_tr[0]) & (grd.y_rho > pnt_bl[1]) & (grd.y_rho < pnt_tr[1])]=1\n",
    "\n",
    "plt.pcolormesh(grd.x_rho,grd.y_rho,mask_cdit)\n",
    "plt.contour(grd.x_rho,grd.y_rho,grd.h*grd.mask_rho,levels=(0,250,500,750,1000),colors='k')\n",
    "plt.colorbar()\n",
    "plt.show()\n",
    "\n",
    "\n",
    "\n",
    "pnt_bl=(2.24e6,.85e6)\n",
    "pnt_tr=(2.34e6,.88e6)\n",
    "\n",
    "\n",
    "# make a mask for where we want to include in the average\n",
    "mask_cdpe = np.zeros_like(grd.lon_rho)\n",
    "mask_cdpe[(grd.x_rho > pnt_bl[0]) & (grd.x_rho < pnt_tr[0]) & (grd.y_rho > pnt_bl[1]) & (grd.y_rho < pnt_tr[1])]=1\n",
    "\n",
    "plt.pcolormesh(grd.x_rho,grd.y_rho,mask_cdpe)\n",
    "plt.contour(grd.x_rho,grd.y_rho,grd.h*grd.mask_rho,levels=(0,250,500,750,1000),colors='k')\n",
    "plt.colorbar()\n",
    "plt.show()\n",
    "\n",
    "\n",
    "pnt_bl=(2.24e6,.88e6)\n",
    "pnt_tr=(2.34e6,.91e6)\n",
    "\n",
    "\n",
    "# make a mask for where we want to include in the average\n",
    "mask_cdpw = np.zeros_like(grd.lon_rho)\n",
    "mask_cdpw[(grd.x_rho > pnt_bl[0]) & (grd.x_rho < pnt_tr[0]) & (grd.y_rho > pnt_bl[1]) & (grd.y_rho < pnt_tr[1])]=1\n",
    "\n",
    "plt.pcolormesh(grd.x_rho,grd.y_rho,mask_cdpw)\n",
    "plt.contour(grd.x_rho,grd.y_rho,grd.h*grd.mask_rho,levels=(0,250,500,750,1000),colors='k')\n",
    "plt.colorbar()\n",
    "plt.show()\n",
    "\n",
    "\n",
    "\n",
    "pnt_bl=(2.18e6,.77e6)\n",
    "pnt_tr=(2.21e6,.81e6)\n",
    "\n",
    "\n",
    "# make a mask for where we want to include in the average\n",
    "mask_aiso = np.zeros_like(grd.lon_rho)\n",
    "mask_aiso[(grd.x_rho > pnt_bl[0]) & (grd.x_rho < pnt_tr[0]) & (grd.y_rho > pnt_bl[1]) & (grd.y_rho < pnt_tr[1])]=1\n",
    "\n",
    "plt.pcolormesh(grd.x_rho,grd.y_rho,mask_aiso)\n",
    "plt.contour(grd.x_rho,grd.y_rho,grd.h*grd.mask_rho,levels=(0,250,500,750,1000),colors='k')\n",
    "plt.colorbar()\n",
    "plt.show()\n",
    "\n"
   ]
  },
  {
   "cell_type": "code",
   "execution_count": null,
   "id": "63778b33-ea0c-43ca-a67b-2cc2effcce2a",
   "metadata": {
    "tags": []
   },
   "outputs": [],
   "source": [
    "# salt_rate.isel(xi_rho=362,eta_rho=391).sum(dim='s_rho').plot()\n",
    "(salt_hadv_dz+salt_vadv_dz+salt_hdiff_dz+salt_vdiff_dz).isel(xi_rho=362,eta_rho=391).sum(dim='s_rho').plot()"
   ]
  },
  {
   "cell_type": "code",
   "execution_count": null,
   "id": "01561311-fed1-47a5-bf5a-7f7d336c3e1e",
   "metadata": {
    "tags": []
   },
   "outputs": [],
   "source": [
    "(salt_hadv_dz).isel(xi_rho=362,eta_rho=391).sum(dim='s_rho').plot()\n",
    "salt_vadv_dz.isel(xi_rho=362,eta_rho=391).sum(dim='s_rho').plot()\n",
    "salt_hdiff_dz.isel(xi_rho=362,eta_rho=391).sum(dim='s_rho').plot()\n",
    "salt_vdiff_dz.isel(xi_rho=362,eta_rho=391).sum(dim='s_rho').plot()"
   ]
  },
  {
   "cell_type": "code",
   "execution_count": null,
   "id": "f8c8fd46-03da-44a1-9af2-be7e914a713c",
   "metadata": {
    "tags": []
   },
   "outputs": [],
   "source": [
    "salt_hdiff_dz.isel(xi_rho=362,eta_rho=391).sum(dim='s_rho').plot()\n",
    "salt_vdiff_dz.isel(xi_rho=362,eta_rho=391).sum(dim='s_rho').plot()"
   ]
  },
  {
   "cell_type": "code",
   "execution_count": null,
   "id": "be0903d8-b67b-436c-bad4-a98590eb4b38",
   "metadata": {
    "tags": []
   },
   "outputs": [],
   "source": [
    "salt_vdiff_dz.sum(dim='s_rho').mean(dim='ocean_time').plot()"
   ]
  },
  {
   "cell_type": "code",
   "execution_count": null,
   "id": "b46a0b41-8440-4063-a67f-4c85613967a9",
   "metadata": {
    "tags": []
   },
   "outputs": [],
   "source": [
    "ds_his = xr.open_dataset('/g/data/jk72/deg581/apom/mdl/amery_hr_repeatyear_v11_ctrl_diags/roms_his_0018.nc')\n",
    "ssflux = ds_his[\"ssflux\"] \n",
    "ds_his.close()"
   ]
  },
  {
   "cell_type": "code",
   "execution_count": null,
   "id": "3b94025b-adf5-4771-8dea-464c0e2051f3",
   "metadata": {
    "tags": []
   },
   "outputs": [],
   "source": [
    "ssflux.mean(dim='ocean_time').plot()"
   ]
  },
  {
   "cell_type": "code",
   "execution_count": null,
   "id": "6e347952-7e43-4529-a02b-0778d7327f3a",
   "metadata": {},
   "outputs": [],
   "source": [
    "STOP"
   ]
  },
  {
   "cell_type": "code",
   "execution_count": null,
   "id": "af94e59e-79d7-4e03-bd16-7dc6f4f2ef05",
   "metadata": {
    "tags": []
   },
   "outputs": [],
   "source": [
    "ds.salt"
   ]
  },
  {
   "cell_type": "code",
   "execution_count": null,
   "id": "2f42333a-1e1d-431d-81dc-344fe4aee00f",
   "metadata": {},
   "outputs": [],
   "source": [
    "# test sum salt in one of the boxes\n",
    "\n",
    "gs = gridspec.GridSpec(nrows=2,ncols=1,wspace=0.2, hspace=0.2)\n",
    "plt.cla()\n",
    "plt.clf()\n",
    "fig = plt.figure(figsize=[10,5])\n",
    "ax = None\n",
    "\n",
    "ax=fig.add_subplot(gs[0,0])\n",
    "plt.pcolormesh(ds.ocean_time,ds.z_rho0.where(mask_mac==1).weighted(weights).mean(('xi_rho','eta_rho')),\n",
    "               ds.salt.where(mask_mac==1).weighted(weights).mean(('xi_rho','eta_rho')).T,shading='gouraud',\n",
    "              cmap='cmo.haline',vmin=34,vmax=35)\n",
    "plt.colorbar()\n",
    "plt.contour(ds.ocean_time,ds.z_rho0.where(mask_mac==1).weighted(weights).mean(('xi_rho','eta_rho')),\n",
    "               ds.salt.where(mask_mac==1).weighted(weights).mean(('xi_rho','eta_rho')).T,\n",
    "            levels=np.arange(34.0,35.0,0.05),colors='k')\n",
    "\n",
    "ax=fig.add_subplot(gs[1,0])\n",
    "plt.pcolormesh(ds.ocean_time,ds.z_rho0.where(mask_mac==1).weighted(weights).mean(('xi_rho','eta_rho')),\n",
    "               ds.temp.where(mask_mac==1).weighted(weights).mean(('xi_rho','eta_rho')).T,shading='gouraud',\n",
    "              cmap='cmo.thermal',vmin=-2.5,vmax=0)\n",
    "plt.colorbar()\n",
    "plt.contour(ds.ocean_time,ds.z_rho0.where(mask_mac==1).weighted(weights).mean(('xi_rho','eta_rho')),\n",
    "               ds.temp.where(mask_mac==1).weighted(weights).mean(('xi_rho','eta_rho')).T,\n",
    "            levels=np.arange(-2.5,0,0.1),colors='k',linestyles='-')\n",
    "plt.contour(ds.ocean_time,ds.z_rho0.where(mask_mac==1).weighted(weights).mean(('xi_rho','eta_rho')),\n",
    "               ds.temp.where(mask_mac==1).weighted(weights).mean(('xi_rho','eta_rho')).T,\n",
    "            [-1.95],colors='C1',linestyles='-')"
   ]
  },
  {
   "cell_type": "code",
   "execution_count": null,
   "id": "80edc8cb-f07b-48f4-a22d-79a089ea3acc",
   "metadata": {
    "tags": []
   },
   "outputs": [],
   "source": [
    "# test sum salt in one of the boxes\n",
    "\n",
    "gs = gridspec.GridSpec(nrows=2,ncols=1,wspace=0.2, hspace=0.2)\n",
    "plt.cla()\n",
    "plt.clf()\n",
    "fig = plt.figure(figsize=[10,5])\n",
    "ax = None\n",
    "\n",
    "ax=fig.add_subplot(gs[0,0])\n",
    "plt.pcolormesh(ds.ocean_time,ds.z_rho0.where(mask_cdit==1).weighted(weights).mean(('xi_rho','eta_rho')),\n",
    "               ds.salt.where(mask_cdit==1).weighted(weights).mean(('xi_rho','eta_rho')).T,shading='gouraud',\n",
    "              cmap='cmo.haline',vmin=34,vmax=35)\n",
    "plt.colorbar()\n",
    "plt.contour(ds.ocean_time,ds.z_rho0.where(mask_cdit==1).weighted(weights).mean(('xi_rho','eta_rho')),\n",
    "               ds.salt.where(mask_cdit==1).weighted(weights).mean(('xi_rho','eta_rho')).T,\n",
    "            levels=np.arange(34.0,35.0,0.05),colors='k')\n",
    "\n",
    "ax=fig.add_subplot(gs[1,0])\n",
    "plt.pcolormesh(ds.ocean_time,ds.z_rho0.where(mask_cdit==1).weighted(weights).mean(('xi_rho','eta_rho')),\n",
    "               ds.temp.where(mask_cdit==1).weighted(weights).mean(('xi_rho','eta_rho')).T,shading='gouraud',\n",
    "              cmap='cmo.thermal',vmin=-2.5,vmax=0)\n",
    "plt.colorbar()\n",
    "plt.contour(ds.ocean_time,ds.z_rho0.where(mask_cdit==1).weighted(weights).mean(('xi_rho','eta_rho')),\n",
    "               ds.temp.where(mask_cdit==1).weighted(weights).mean(('xi_rho','eta_rho')).T,\n",
    "            levels=np.arange(-2.5,0,0.1),colors='k',linestyles='-')\n",
    "plt.contour(ds.ocean_time,ds.z_rho0.where(mask_cdit==1).weighted(weights).mean(('xi_rho','eta_rho')),\n",
    "               ds.temp.where(mask_cdit==1).weighted(weights).mean(('xi_rho','eta_rho')).T,\n",
    "            [-1.95],colors='C1',linestyles='-')"
   ]
  },
  {
   "cell_type": "code",
   "execution_count": null,
   "id": "7ea48d01-cd9d-4e4c-860b-4682616fb921",
   "metadata": {
    "tags": []
   },
   "outputs": [],
   "source": [
    "# test sum salt in one of the boxes\n",
    "\n",
    "gs = gridspec.GridSpec(nrows=2,ncols=1,wspace=0.2, hspace=0.2)\n",
    "plt.cla()\n",
    "plt.clf()\n",
    "fig = plt.figure(figsize=[10,5])\n",
    "ax = None\n",
    "\n",
    "ax=fig.add_subplot(gs[0,0])\n",
    "plt.pcolormesh(ds.ocean_time,ds.z_rho0.where(mask_cdpe==1).weighted(weights).mean(('xi_rho','eta_rho')),\n",
    "               ds.salt.where(mask_cdpe==1).weighted(weights).mean(('xi_rho','eta_rho')).T,shading='gouraud',\n",
    "              cmap='cmo.haline',vmin=34,vmax=35)\n",
    "plt.colorbar()\n",
    "plt.contour(ds.ocean_time,ds.z_rho0.where(mask_cdpe==1).weighted(weights).mean(('xi_rho','eta_rho')),\n",
    "               ds.salt.where(mask_cdpe==1).weighted(weights).mean(('xi_rho','eta_rho')).T,\n",
    "            levels=np.arange(34.0,35.0,0.05),colors='k')\n",
    "\n",
    "ax=fig.add_subplot(gs[1,0])\n",
    "plt.pcolormesh(ds.ocean_time,ds.z_rho0.where(mask_cdpe==1).weighted(weights).mean(('xi_rho','eta_rho')),\n",
    "               ds.temp.where(mask_cdpe==1).weighted(weights).mean(('xi_rho','eta_rho')).T,shading='gouraud',\n",
    "              cmap='cmo.thermal',vmin=-2.5,vmax=0)\n",
    "plt.colorbar()\n",
    "plt.contour(ds.ocean_time,ds.z_rho0.where(mask_cdpe==1).weighted(weights).mean(('xi_rho','eta_rho')),\n",
    "               ds.temp.where(mask_cdpe==1).weighted(weights).mean(('xi_rho','eta_rho')).T,\n",
    "            levels=np.arange(-2.5,0,0.1),colors='k',linestyles='-')\n",
    "plt.contour(ds.ocean_time,ds.z_rho0.where(mask_cdpe==1).weighted(weights).mean(('xi_rho','eta_rho')),\n",
    "               ds.temp.where(mask_cdpe==1).weighted(weights).mean(('xi_rho','eta_rho')).T,\n",
    "            [-1.95],colors='C1',linestyles='-')"
   ]
  },
  {
   "cell_type": "code",
   "execution_count": null,
   "id": "ddba1bb9-a874-4db6-ac8d-a8beea43b694",
   "metadata": {},
   "outputs": [],
   "source": [
    "# test sum salt in one of the boxes\n",
    "\n",
    "gs = gridspec.GridSpec(nrows=3,ncols=1,wspace=0.2, hspace=0.2)\n",
    "plt.cla()\n",
    "plt.clf()\n",
    "fig = plt.figure(figsize=[10,5])\n",
    "ax = None\n",
    "\n",
    "ax=fig.add_subplot(gs[0,0])\n",
    "im=plt.pcolormesh(ds.ocean_time,ds.z_rho0.where(mask_cdpw==1).weighted(weights).mean(('xi_rho','eta_rho')),\n",
    "               ds.salt.where(mask_cdpw==1).weighted(weights).mean(('xi_rho','eta_rho')).T,shading='gouraud',\n",
    "              cmap='cmo.haline',vmin=34,vmax=35)\n",
    "\n",
    "\n",
    "plt.contour(ds.ocean_time,ds.z_rho0.where(mask_cdpw==1).weighted(weights).mean(('xi_rho','eta_rho')),\n",
    "               ds.salt.where(mask_cdpw==1).weighted(weights).mean(('xi_rho','eta_rho')).T,\n",
    "            levels=np.arange(34.0,35.0,0.05),colors='k')\n",
    "cax = inset_axes(ax,\n",
    "                width=\"40%\",  # width = 10% of parent_bbox width\n",
    "                height=\"3%\",  # height : 50%\n",
    "                loc='lower left',\n",
    "                bbox_to_anchor=(.04,.25, 1, 1),\n",
    "                bbox_transform=ax.transAxes,\n",
    "                borderpad=0,\n",
    "                )\n",
    "cbar = fig.colorbar(im, cax=cax, orientation='horizontal') \n",
    "cax.set_title(r'salinity')\n",
    "\n",
    "ax=fig.add_subplot(gs[1,0])\n",
    "im=plt.pcolormesh(ds.ocean_time,ds.z_rho0.where(mask_cdpw==1).weighted(weights).mean(('xi_rho','eta_rho')),\n",
    "               ds.temp.where(mask_cdpw==1).weighted(weights).mean(('xi_rho','eta_rho')).T,shading='gouraud',\n",
    "              cmap='cmo.thermal',vmin=-2.5,vmax=0)\n",
    "\n",
    "\n",
    "plt.contour(ds.ocean_time,ds.z_rho0.where(mask_cdpw==1).weighted(weights).mean(('xi_rho','eta_rho')),\n",
    "               ds.temp.where(mask_cdpw==1).weighted(weights).mean(('xi_rho','eta_rho')).T,\n",
    "            levels=np.arange(-2.5,0,0.1),colors='k',linestyles='-')\n",
    "plt.contour(ds.ocean_time,ds.z_rho0.where(mask_cdpw==1).weighted(weights).mean(('xi_rho','eta_rho')),\n",
    "               ds.temp.where(mask_cdpw==1).weighted(weights).mean(('xi_rho','eta_rho')).T,\n",
    "            [-1.95],colors='C1',linestyles='-')\n",
    "\n",
    "cax = inset_axes(ax,\n",
    "                width=\"40%\",  # width = 10% of parent_bbox width\n",
    "                height=\"3%\",  # height : 50%\n",
    "                loc='lower left',\n",
    "                bbox_to_anchor=(.04,.25, 1, 1),\n",
    "                bbox_transform=ax.transAxes,\n",
    "                borderpad=0,\n",
    "                )\n",
    "cbar = fig.colorbar(im, cax=cax, orientation='horizontal') \n",
    "cax.set_title(r'pot temp')\n",
    "\n",
    "ax=fig.add_subplot(gs[2,0])\n",
    "plt.plot(ds.ocean_time,ds.shflux.where(mask_cdpw==1).weighted(weights).mean(('xi_rho','eta_rho')),'C1')\n",
    "ax.autoscale(enable=True, axis='x', tight=True)\n",
    "ax.set_ylim((-200,200))\n",
    "ax2 = ax.twinx()\n",
    "ax2.plot(ds.ocean_time,ds.ssflux.where(mask_cdpw==1).weighted(weights).mean(('xi_rho','eta_rho')),'C0')\n",
    "ax2.autoscale(enable=True, axis='x', tight=True)\n",
    "# ax2.set_ylim((-2,2))"
   ]
  },
  {
   "cell_type": "code",
   "execution_count": null,
   "id": "0f4aaedf-0d51-4f8f-8410-80cdfcb9089c",
   "metadata": {},
   "outputs": [],
   "source": [
    "# test sum salt in one of the boxes\n",
    "\n",
    "gs = gridspec.GridSpec(nrows=3,ncols=1,wspace=0.2, hspace=0.2)\n",
    "plt.cla()\n",
    "plt.clf()\n",
    "fig = plt.figure(figsize=[10,5])\n",
    "ax = None\n",
    "\n",
    "ax=fig.add_subplot(gs[0,0])\n",
    "plt.pcolormesh(ds.ocean_time,ds.z_rho0.where(mask_aiso==1).weighted(weights).mean(('xi_rho','eta_rho')),\n",
    "               ds.salt.where(mask_aiso==1).weighted(weights).mean(('xi_rho','eta_rho')).T,shading='gouraud',\n",
    "              cmap='cmo.haline',vmin=34,vmax=35)\n",
    "plt.colorbar()\n",
    "plt.contour(ds.ocean_time,ds.z_rho0.where(mask_aiso==1).weighted(weights).mean(('xi_rho','eta_rho')),\n",
    "               ds.salt.where(mask_aiso==1).weighted(weights).mean(('xi_rho','eta_rho')).T,\n",
    "            levels=np.arange(34.0,35.0,0.05),colors='k')\n",
    "\n",
    "ax=fig.add_subplot(gs[1,0])\n",
    "plt.pcolormesh(ds.ocean_time,ds.z_rho0.where(mask_aiso==1).weighted(weights).mean(('xi_rho','eta_rho')),\n",
    "               ds.temp.where(mask_aiso==1).weighted(weights).mean(('xi_rho','eta_rho')).T,shading='gouraud',\n",
    "              cmap='cmo.thermal',vmin=-2.5,vmax=0)\n",
    "plt.colorbar()\n",
    "plt.contour(ds.ocean_time,ds.z_rho0.where(mask_aiso==1).weighted(weights).mean(('xi_rho','eta_rho')),\n",
    "               ds.temp.where(mask_aiso==1).weighted(weights).mean(('xi_rho','eta_rho')).T,\n",
    "            levels=np.arange(-2.5,0,0.1),colors='k',linestyles='-')\n",
    "plt.contour(ds.ocean_time,ds.z_rho0.where(mask_aiso==1).weighted(weights).mean(('xi_rho','eta_rho')),\n",
    "               ds.temp.where(mask_aiso==1).weighted(weights).mean(('xi_rho','eta_rho')).T,\n",
    "            [-1.95],colors='C1',linestyles='-')\n",
    "\n",
    "ax=fig.add_subplot(gs[2,0])\n",
    "plt.plot(ds.ocean_time,ds.shflux.where(mask_aiso==1).weighted(weights).mean(('xi_rho','eta_rho')),'C1')\n",
    "plt.plot(ds.ocean_time,ds.ssflux.where(mask_aiso==1).weighted(weights).mean(('xi_rho','eta_rho')),'C0')"
   ]
  },
  {
   "cell_type": "code",
   "execution_count": null,
   "id": "4190b707-9f7a-4a1c-8c25-c6f9f5fc6f93",
   "metadata": {
    "tags": []
   },
   "outputs": [],
   "source": [
    "# test sum salt in one of the boxes\n",
    "\n",
    "gs = gridspec.GridSpec(nrows=3,ncols=1,wspace=0.2, hspace=0.2)\n",
    "plt.cla()\n",
    "plt.clf()\n",
    "fig = plt.figure(figsize=[10,5])\n",
    "ax = None\n",
    "\n",
    "\n",
    "where_x=390\n",
    "where_e=440\n",
    "\n",
    "ax=fig.add_subplot(gs[0,0])\n",
    "im=plt.pcolormesh(ds.ocean_time,ds.z_rho0.isel(xi_rho=where_x,eta_rho=where_e),\n",
    "               ds.salt.isel(xi_rho=where_x,eta_rho=where_e).T,shading='gouraud',\n",
    "              cmap='cmo.haline',vmin=34,vmax=35)\n",
    "\n",
    "\n",
    "plt.contour(ds.ocean_time,ds.z_rho0.isel(xi_rho=where_x,eta_rho=where_e),\n",
    "               ds.salt.isel(xi_rho=where_x,eta_rho=where_e).T,\n",
    "            levels=np.arange(34.0,35.0,0.05),colors='k')\n",
    "cax = inset_axes(ax,\n",
    "                width=\"40%\",  # width = 10% of parent_bbox width\n",
    "                height=\"3%\",  # height : 50%\n",
    "                loc='lower left',\n",
    "                bbox_to_anchor=(.04,.25, 1, 1),\n",
    "                bbox_transform=ax.transAxes,\n",
    "                borderpad=0,\n",
    "                )\n",
    "cbar = fig.colorbar(im, cax=cax, orientation='horizontal') \n",
    "cax.set_title(r'salinity')\n",
    "\n",
    "ax=fig.add_subplot(gs[1,0])\n",
    "im=plt.pcolormesh(ds.ocean_time,ds.z_rho0.isel(xi_rho=where_x,eta_rho=where_e),\n",
    "               ds.temp.isel(xi_rho=where_x,eta_rho=where_e).T,shading='gouraud',\n",
    "              cmap='cmo.thermal',vmin=-2.5,vmax=0)\n",
    "\n",
    "\n",
    "plt.contour(ds.ocean_time,ds.z_rho0.isel(xi_rho=where_x,eta_rho=where_e),\n",
    "               ds.temp.isel(xi_rho=where_x,eta_rho=where_e).T,\n",
    "            levels=np.arange(-2.5,0,0.1),colors='k',linestyles='-')\n",
    "plt.contour(ds.ocean_time,ds.z_rho0.isel(xi_rho=where_x,eta_rho=where_e),\n",
    "               ds.temp.isel(xi_rho=where_x,eta_rho=where_e).T,\n",
    "            [-1.95],colors='C1',linestyles='-')\n",
    "\n",
    "cax = inset_axes(ax,\n",
    "                width=\"40%\",  # width = 10% of parent_bbox width\n",
    "                height=\"3%\",  # height : 50%\n",
    "                loc='lower left',\n",
    "                bbox_to_anchor=(.04,.25, 1, 1),\n",
    "                bbox_transform=ax.transAxes,\n",
    "                borderpad=0,\n",
    "                )\n",
    "cbar = fig.colorbar(im, cax=cax, orientation='horizontal') \n",
    "cax.set_title(r'pot temp')\n",
    "\n",
    "ax=fig.add_subplot(gs[2,0])\n",
    "plt.plot(ds.ocean_time,ds.shflux.isel(xi_rho=where_x,eta_rho=where_e),'C1')\n",
    "ax.autoscale(enable=True, axis='x', tight=True)\n",
    "ax.set_ylim((-400,200))\n",
    "ax2 = ax.twinx()\n",
    "ax2.plot(ds.ocean_time,-ds.ssflux.isel(xi_rho=where_x,eta_rho=where_e),'C0')\n",
    "ax2.autoscale(enable=True, axis='x', tight=True)\n",
    "ax2.set_ylim((-4*1e-5,2*1e-5))"
   ]
  },
  {
   "cell_type": "code",
   "execution_count": null,
   "id": "75dbcc75-74f5-4f59-b536-66f188c68d44",
   "metadata": {},
   "outputs": [],
   "source": []
  },
  {
   "cell_type": "code",
   "execution_count": null,
   "id": "9bdae690-7dcd-44bc-81d7-6d23dae0a897",
   "metadata": {},
   "outputs": [],
   "source": [
    "# now make those poster plots again"
   ]
  },
  {
   "cell_type": "code",
   "execution_count": null,
   "id": "f409b223-f866-486b-a3e8-5c9a7532bb3e",
   "metadata": {},
   "outputs": [],
   "source": []
  },
  {
   "cell_type": "code",
   "execution_count": null,
   "id": "59fb11f8-9767-45b8-a988-a18f9ad18ab6",
   "metadata": {},
   "outputs": [],
   "source": [
    "# now look at heat coming onto shelf\n",
    "target_depth = -400\n",
    "\n",
    "temp400 = grid.transform(ds.temp, 'Z', np.array([target_depth]),target_data=ds.z_rho0,method='linear').squeeze()\n",
    "# salt400_FM = grid.transform(ds.salt, 'Z', np.array([target_depth]),target_data=ds.z_rho0,method='linear').squeeze()\n",
    "\n",
    "temp400_clima = temp400.groupby('ocean_time.dayofyear').mean()"
   ]
  },
  {
   "cell_type": "code",
   "execution_count": null,
   "id": "522da5ec-461b-4d79-9797-8e9449e4d08b",
   "metadata": {
    "tags": []
   },
   "outputs": [],
   "source": [
    "from scipy.ndimage import gaussian_filter1d\n",
    "\n",
    "\n",
    "temp400.isel(ocean_time=slice(25,85)).mean(dim='ocean_time').plot(vmin=-2,vmax=-.5)\n",
    "co1 = plt.contour(ds.zice*ds.mask_rho,levels=(-1,0),colors='C2',linestyles='-',linewidths=1)\n",
    "co10 = plt.contour(ds.h*ds.mask_rho,levels=(0,1),colors='k',linestyles='-',linewidths=0.5)\n",
    "co2 = plt.contour(ds.h*ds.mask_rho,levels=(250,500,750,1000,2000),colors='k',linestyles='-',linewidths=0.5)\n",
    "plt.axis((325,475,225,450))\n",
    "plt.plot(450,335,'x',color='C1')\n",
    "plt.plot(408,262,'x',color='C2')\n",
    "plt.show()\n",
    "\n",
    "plt.plot(ds.ocean_time,temp400.isel(xi_rho=450,eta_rho=335),color='C1',linewidth=.5,label='400m temp - outer shelf')\n",
    "plt.plot(ds.ocean_time,gaussian_filter1d(temp400.isel(xi_rho=450,eta_rho=335), 5),color='C1',linewidth=2.5,label='400m temp - outer shelf (5-day filter)')\n",
    "plt.plot(ds.ocean_time,temp400.isel(xi_rho=408,eta_rho=262),color='C2',linewidth=.5,label='400m temp - coast')\n",
    "plt.plot(ds.ocean_time,gaussian_filter1d(temp400.isel(xi_rho=408,eta_rho=262), 5),color='C2',linewidth=2.5,label='400m temp - coast (5-day filter)')\n",
    "plt.show()\n",
    "\n"
   ]
  },
  {
   "cell_type": "code",
   "execution_count": null,
   "id": "e95ce234-f27f-40a9-a3b2-c12fa3f165a1",
   "metadata": {
    "tags": []
   },
   "outputs": [],
   "source": [
    "image_save_dpi = 1000\n",
    "\n",
    "# # plt.rcParams['figure.dpi'] = image_save_dpi\n",
    "\n",
    "gs = gridspec.GridSpec(nrows=1,ncols=1,wspace=0.2, hspace=0.2)\n",
    "plt.cla()\n",
    "plt.clf()\n",
    "fig = plt.figure(figsize=[15,5])\n",
    "ax = None\n",
    "\n",
    "ax=fig.add_subplot(gs[0,0])\n",
    "\n",
    "\n",
    "# ax.axvline((32),color='0.9')\n",
    "# ax.axvline((60),color='0.9')\n",
    "ax.axvline((91),color='0.9') #apr\n",
    "# ax.axvline((121),color='0.9')\n",
    "# ax.axvline((152),color='0.9')\n",
    "ax.axvline((182),color='0.9') #july\n",
    "# ax.axvline((213),color='0.9')\n",
    "# ax.axvline((244),color='0.9')\n",
    "ax.axvline((274),color='0.9') #oct\n",
    "# ax.axvline((305),color='0.9')\n",
    "# ax.axvline((335),color='0.9')\n",
    "\n",
    "ax.plot(temp400_clima.dayofyear,temp400_clima.isel(xi_rho=450,eta_rho=335),color='C1',linewidth=1.5)#,label='400m temp - outer shelf')\n",
    "ax.plot(temp400_clima.dayofyear,gaussian_filter1d(temp400_clima.isel(xi_rho=450,eta_rho=335), 5),color='C1',linewidth=5,label='400m temp @ outer shelf')\n",
    "ax.plot(temp400_clima.dayofyear,temp400_clima.isel(xi_rho=408,eta_rho=262),color='lightcoral',linewidth=1.5)#,label='400m temp - coast')\n",
    "ax.plot(temp400_clima.dayofyear,gaussian_filter1d(temp400_clima.isel(xi_rho=408,eta_rho=262), 5),color='lightcoral',linewidth=5,label='400m temp @ coast')\n",
    "\n",
    "\n",
    "\n",
    "# ax.annotate(\"400m temp @ outer shelf\",\n",
    "#             xy=(250,-1), xycoords='data',\n",
    "#             xytext=(250,-1), textcoords='data',\n",
    "#             size=40, va=\"center\", ha=\"center\",\n",
    "#             bbox=dict(boxstyle=\"round4\", fc=\"w\", alpha=0.75))\n",
    "\n",
    "# # plt.rcParams.update({'font.size': 16})\n",
    "# # plt.rcParams['xtick.labelsize']=16\n",
    "\n",
    "# ax.text(0.01, 0.99, 'a  mean melt', transform=ax.transAxes,fontsize=14, fontweight='bold', va='top')\n",
    "ax.set_xlim((0,365))\n",
    "# ax.set_ylim((.4e6,1.0e6))\n",
    "ax.set_ylabel(r'Temperature ($\\theta$ $^\\circ$C)')\n",
    "ax.set_xlabel('day of year')\n",
    "# ax.grid()\n",
    "ax.legend(frameon=False,loc='upper right')\n",
    "ax.set_title('')"
   ]
  },
  {
   "cell_type": "code",
   "execution_count": null,
   "id": "52e4a994-bfd4-47db-b28c-3bfa8a0be3a3",
   "metadata": {
    "tags": []
   },
   "outputs": [],
   "source": []
  },
  {
   "cell_type": "code",
   "execution_count": null,
   "id": "1bcc7a23-1240-433c-a7f8-dc176162e1ed",
   "metadata": {
    "tags": []
   },
   "outputs": [],
   "source": [
    "# now melt rate variability\n",
    "ds['m'] = ds.m.where(ds.m<1e35,np.NaN)\n",
    "ds['my'] = ds.m*(60*60*24*365)\n",
    "# ds.my.mean(dim='ocean_time').where(ds.zice<-500).plot(vmin=-10,vmax=10)\n",
    "# time evolution of melt rate\n",
    "\n",
    "ds['my_doy'] = ds.my.groupby('ocean_time.dayofyear').mean()"
   ]
  },
  {
   "cell_type": "code",
   "execution_count": null,
   "id": "48a8f029-5489-41af-993d-2dfaf807fbb3",
   "metadata": {
    "tags": []
   },
   "outputs": [],
   "source": [
    "image_save_dpi = 1000\n",
    "\n",
    "# plt.rcParams['figure.dpi'] = image_save_dpi\n",
    "\n",
    "gs = gridspec.GridSpec(nrows=1,ncols=1,wspace=0.2, hspace=0.2)\n",
    "plt.cla()\n",
    "plt.clf()\n",
    "fig = plt.figure(figsize=[15,5])\n",
    "ax = None\n",
    "\n",
    "ax=fig.add_subplot(gs[0,0])\n",
    "\n",
    "\n",
    "(ds.my_doy*ds.mask_zice_roi.where(ds.mask_zice_roi,np.NaN)).weighted(weights_area).mean(('eta_rho','xi_rho')).plot(color='C0',linewidth=1.5)#,label='mean melt (zice<500m)')\n",
    "plt.plot(ds.dayofyear,gaussian_filter1d((ds.my_doy*ds.mask_zice_roi.where(ds.mask_zice_roi,np.NaN)).weighted(weights_area).mean(('eta_rho','xi_rho')), 5),color='C0',linewidth=5,label='mean melt')\n",
    "(ds.my_doy*ds.mask_zice_roi.where(ds.zice>-500).where(ds.mask_zice_roi,np.NaN)).weighted(weights_area).mean(('eta_rho','xi_rho')).plot(color='C1',linewidth=1.5)#,label='mean melt (zice>500m)')\n",
    "plt.plot(ds.dayofyear,gaussian_filter1d((ds.my_doy*ds.mask_zice_roi.where(ds.zice>-500).where(ds.mask_zice_roi,np.NaN)).weighted(weights_area).mean(('eta_rho','xi_rho')), 5),color='C1',linewidth=5,label='mean melt (zice>500m)')\n",
    "\n",
    "# plt.rcParams.update({'font.size': 16})\n",
    "# plt.rcParams['xtick.labelsize']=16\n",
    "\n",
    "# ax.text(0.01, 0.99, 'a  mean melt', transform=ax.transAxes,fontsize=14, fontweight='bold', va='top')\n",
    "ax.set_xlim((0,365))\n",
    "# ax.set_ylim((.4e6,1.0e6))\n",
    "ax.set_ylabel(r'melt rate (m/yr)')\n",
    "ax.set_xlabel('day of year')\n",
    "# ax.grid()\n",
    "ax.legend(frameon=False,loc='lower left')\n",
    "ax.set_title('')\n"
   ]
  },
  {
   "cell_type": "code",
   "execution_count": null,
   "id": "d56eaaeb-3fbd-44c6-a54f-dde1cd5f70f2",
   "metadata": {
    "tags": []
   },
   "outputs": [],
   "source": [
    "(ds.my_doy*ds.mask_zice_roi.where(ds.mask_zice_roi,np.NaN)).weighted(weights_area).mean(('eta_rho','xi_rho')).mean(dim='dayofyear')\n"
   ]
  },
  {
   "cell_type": "code",
   "execution_count": null,
   "id": "7eee5095-c510-48f9-90c3-45b11104bd66",
   "metadata": {
    "tags": []
   },
   "outputs": [],
   "source": [
    "# isw plume strength\n",
    "import seawater as sw\n",
    "\n",
    "sigma_0_surf = sw.pden(ds.salt.isel(s_rho=-1).values,sw.temp(ds.salt.isel(s_rho=-1).values,ds.temp.isel(s_rho=-1).values,ds.z_rho0.isel(s_rho=-1).values),ds.z_rho0.isel(s_rho=-1).values,0)-1000\n",
    "ds['sigma_0_surf']=(('ocean_time','eta_rho','xi_rho'),sigma_0_surf)\n",
    "\n",
    "\n",
    "mask = np.zeros_like(ds.lon_rho)\n",
    "mask[380:386,318:323]=1\n",
    "\n",
    "\n",
    "ds['sigma_0_surf_clima'] = ds.sigma_0_surf.groupby('ocean_time.dayofyear').mean()"
   ]
  },
  {
   "cell_type": "code",
   "execution_count": null,
   "id": "2227b39c-ae1c-421a-8203-4f65b5ef44b3",
   "metadata": {
    "tags": []
   },
   "outputs": [],
   "source": [
    "image_save_dpi = 1000\n",
    "\n",
    "# plt.rcParams['figure.dpi'] = image_save_dpi\n",
    "\n",
    "gs = gridspec.GridSpec(nrows=1,ncols=1,wspace=0.2, hspace=0.2)\n",
    "plt.cla()\n",
    "plt.clf()\n",
    "fig = plt.figure(figsize=[15,5])\n",
    "ax = None\n",
    "\n",
    "ax=fig.add_subplot(gs[0,0])\n",
    "\n",
    "\n",
    "# ax.axvline((32),color='0.9')\n",
    "# ax.axvline((60),color='0.9')\n",
    "ax.axvline((91),color='0.9') #apr\n",
    "# ax.axvline((121),color='0.9')\n",
    "# ax.axvline((152),color='0.9')\n",
    "ax.axvline((182),color='0.9') #july\n",
    "# ax.axvline((213),color='0.9')\n",
    "# ax.axvline((244),color='0.9')\n",
    "ax.axvline((274),color='0.9') #oct\n",
    "# ax.axvline((305),color='0.9')\n",
    "# ax.axvline((335),color='0.9')\n",
    "\n",
    "\n",
    "(ds.my_doy*ds.mask_zice_roi.where(ds.mask_zice_roi,np.NaN)).weighted(weights_area).mean(('eta_rho','xi_rho')).plot(color='orangered',linewidth=1.5)#,label='mean melt (zice<500m)')\n",
    "plt.plot(ds.dayofyear,gaussian_filter1d((ds.my_doy*ds.mask_zice_roi.where(ds.mask_zice_roi,np.NaN)).weighted(weights_area).mean(('eta_rho','xi_rho')), 5),color='orangered',linewidth=5,label='AIS mean melt')\n",
    "# (ds.my_doy*ds.mask_zice_roi.where(ds.zice>-500).where(ds.mask_zice_roi,np.NaN)).weighted(weights_area).mean(('eta_rho','xi_rho')).plot(color='C1',linewidth=.5)#,label='mean melt (zice>500m)')\n",
    "# plt.plot(ds.dayofyear,gaussian_filter1d((ds.my_doy*ds.mask_zice_roi.where(ds.zice>-500).where(ds.mask_zice_roi,np.NaN)).weighted(weights_area).mean(('eta_rho','xi_rho')), 5),color='C1',linewidth=2,label='mean melt (zice>500m)')\n",
    "\n",
    "\n",
    "ax2 = ax.twinx()  # instantiate a second Axes that shares the same x-axis\n",
    "\n",
    "# color = 'tab:blue'\n",
    "# ax2.set_ylabel('sin')#, color=color)  # we already handled the x-label with ax1\n",
    "# ax2.plot(t, data2, color=color)\n",
    "# ax2.tick_params(axis='y', labelcolor=color)\n",
    "\n",
    "ax2.plot(ds.dayofyear,ds.sigma_0_surf_clima.where(mask==1).weighted(weights_area).mean(('eta_rho','xi_rho')),color='skyblue',linewidth=1.5)\n",
    "ax2.plot(ds.dayofyear,gaussian_filter1d(ds.sigma_0_surf_clima.where(mask==1).weighted(weights_area).mean(('eta_rho','xi_rho')),2),color='skyblue',linewidth=5,label='$\\sigma_0$ @ outflow')\n",
    "ax2.set_ylabel('surface $\\sigma_0$ anomay (kg/m$^3$)')\n",
    "\n",
    "\n",
    "\n",
    "# plt.rcParams.update({'font.size': 16})\n",
    "# plt.rcParams['xtick.labelsize']=16\n",
    "\n",
    "# ax.text(0.01, 0.99, 'a  mean melt', transform=ax.transAxes,fontsize=14, fontweight='bold', va='top')\n",
    "ax.set_xlim((0,365))\n",
    "# ax.set_ylim((.4e6,1.0e6))\n",
    "ax.set_ylabel(r'melt rate (m/yr)')\n",
    "ax.set_xlabel('day of year')\n",
    "# ax.grid()\n",
    "\n",
    "lines, labels = ax.get_legend_handles_labels()\n",
    "lines2, labels2 = ax2.get_legend_handles_labels()\n",
    "ax2.legend(lines + lines2, labels + labels2,frameon=False,loc='lower left')\n",
    "\n",
    "# ax.legend(frameon=False,loc='lower left')\n",
    "ax.set_title('')\n",
    "\n"
   ]
  },
  {
   "cell_type": "code",
   "execution_count": null,
   "id": "ef59c915-98f9-45c7-b1dc-1b2a8f62826c",
   "metadata": {
    "tags": []
   },
   "outputs": [],
   "source": [
    "frc = xr.open_dataset('../../frc/amery_v2km_tamura+era_shflux.nc')\n",
    "\n"
   ]
  },
  {
   "cell_type": "code",
   "execution_count": null,
   "id": "026c9a30-b782-4c63-8fec-17a0d417939a",
   "metadata": {
    "tags": []
   },
   "outputs": [],
   "source": [
    "\n",
    "\n",
    "# make heat flux plot\n",
    "(frc.shflux*ds.mask_rho*~ds.mask_zice).mean(dim='shf_time').plot(levels=12)\n",
    "co1 = plt.contour(ds.zice*ds.mask_rho,levels=(-1,0),colors='C2',linestyles='-',linewidths=1)\n",
    "co10 = plt.contour(ds.h*ds.mask_rho,levels=(0,1),colors='k',linestyles='-',linewidths=0.5)\n",
    "co2 = plt.contour(ds.h*ds.mask_rho,levels=(250,500,750,1000,2000),colors='k',linestyles='-',linewidths=0.5)\n",
    "plt.axis((300,450,350,600))\n",
    "plt.plot(390,440,'x',color='C1')\n",
    "plt.plot(362,391,'x',color='C2')\n",
    "\n",
    "plt.show()\n",
    "\n",
    "plt.plot(frc.shf_time,frc.shflux.isel(xi_rho=390,eta_rho=440),color='C1',linewidth=.5,label='shflux - CD')\n",
    "plt.plot(frc.shf_time,gaussian_filter1d(frc.shflux.isel(xi_rho=390,eta_rho=440), 5),color='C1',linewidth=2.5,label='shflux - CD (5-day filter)')\n",
    "plt.plot(frc.shf_time,frc.shflux.isel(xi_rho=362,eta_rho=391),color='C2',linewidth=.5,label='shflux - Ma')\n",
    "plt.plot(frc.shf_time,gaussian_filter1d(frc.shflux.isel(xi_rho=362,eta_rho=391), 5),color='C2',linewidth=2.5,label='shflux - Ma (5-day filter)')\n"
   ]
  },
  {
   "cell_type": "code",
   "execution_count": null,
   "id": "bff57a0c-095e-46b3-a9a0-fea3eced3987",
   "metadata": {
    "tags": []
   },
   "outputs": [],
   "source": [
    "image_save_dpi = 1000\n",
    "\n",
    "# plt.rcParams['figure.dpi'] = image_save_dpi\n",
    "\n",
    "gs = gridspec.GridSpec(nrows=1,ncols=1,wspace=0.2, hspace=0.2)\n",
    "plt.cla()\n",
    "plt.clf()\n",
    "fig = plt.figure(figsize=[15,5])\n",
    "ax = None\n",
    "\n",
    "ax=fig.add_subplot(gs[0,0])\n",
    "\n",
    "\n",
    "# ax.axvline((32),color='0.9')\n",
    "# ax.axvline((60),color='0.9')\n",
    "ax.axvline((91),color='0.9') #apr\n",
    "# ax.axvline((121),color='0.9')\n",
    "# ax.axvline((152),color='0.9')\n",
    "ax.axvline((182),color='0.9') #july\n",
    "# ax.axvline((213),color='0.9')\n",
    "# ax.axvline((244),color='0.9')\n",
    "ax.axvline((274),color='0.9') #oct\n",
    "# ax.axvline((305),color='0.9')\n",
    "# ax.axvline((335),color='0.9')\n",
    "\n",
    "ax.plot(frc.shf_time,frc.shflux.isel(xi_rho=362,eta_rho=391),color='C2',linewidth=1.5)#,label='shflux - Ma')\n",
    "ax.plot(frc.shf_time,gaussian_filter1d(frc.shflux.isel(xi_rho=362,eta_rho=391), 5),color='C2',linewidth=5,label='Mackenzie polynya')\n",
    "ax.plot(frc.shf_time,frc.shflux.isel(xi_rho=390,eta_rho=440),color='steelblue',linewidth=1.5)#,label='shflux - CD')\n",
    "ax.plot(frc.shf_time,gaussian_filter1d(frc.shflux.isel(xi_rho=390,eta_rho=440), 5),color='steelblue',linewidth=5,label='Cape Darnley')\n",
    "\n",
    "\n",
    "\n",
    "# plt.rcParams.update({'font.size': 16})\n",
    "# plt.rcParams['xtick.labelsize']=16\n",
    "\n",
    "# ax.text(0.01, 0.99, 'a  mean melt', transform=ax.transAxes,fontsize=14, fontweight='bold', va='top')\n",
    "ax.set_xlim((0,365))\n",
    "# ax.set_ylim((.4e6,1.0e6))\n",
    "ax.set_ylabel(r'surface heat flux (W/m$^2$)')\n",
    "ax.set_xlabel('day of year')\n",
    "# ax.grid()\n",
    "\n",
    "ax.legend(frameon=False,loc='lower left')\n",
    "ax.set_title('')\n",
    "\n"
   ]
  },
  {
   "cell_type": "code",
   "execution_count": null,
   "id": "9ba6dce1-07d5-4f8f-b250-79f4e5f8c3f4",
   "metadata": {
    "tags": []
   },
   "outputs": [],
   "source": [
    "# make bottom density \n",
    "sigma_0_bot = sw.pden(ds.salt.isel(s_rho=0).values,sw.temp(ds.salt.isel(s_rho=0).values,ds.temp.isel(s_rho=0).values,ds.z_rho0.isel(s_rho=0).values),ds.z_rho0.isel(s_rho=0).values,0)-1000\n",
    "ds['sigma_0_bot']=(('ocean_time','eta_rho','xi_rho'),sigma_0_bot)\n",
    "\n",
    "\n",
    "ds['sigma_0_bot_clima'] = ds.sigma_0_bot.groupby('ocean_time.dayofyear').mean()"
   ]
  },
  {
   "cell_type": "code",
   "execution_count": null,
   "id": "536bfd83-ee87-475b-8f40-5c66052e4f51",
   "metadata": {
    "tags": []
   },
   "outputs": [],
   "source": [
    "image_save_dpi = 1000\n",
    "\n",
    "# plt.rcParams['figure.dpi'] = image_save_dpi\n",
    "\n",
    "gs = gridspec.GridSpec(nrows=1,ncols=1,wspace=0.2, hspace=0.2)\n",
    "plt.cla()\n",
    "plt.clf()\n",
    "fig = plt.figure(figsize=[15,5])\n",
    "ax = None\n",
    "\n",
    "ax=fig.add_subplot(gs[0,0])\n",
    "\n",
    "\n",
    "\n",
    "# ax.axvline((32),color='0.9')\n",
    "# ax.axvline((60),color='0.9')\n",
    "ax.axvline((91),color='0.9') #apr\n",
    "# ax.axvline((121),color='0.9')\n",
    "# ax.axvline((152),color='0.9')\n",
    "ax.axvline((182),color='0.9') #july\n",
    "# ax.axvline((213),color='0.9')\n",
    "# ax.axvline((244),color='0.9')\n",
    "ax.axvline((274),color='0.9') #oct\n",
    "# ax.axvline((305),color='0.9')\n",
    "# ax.axvline((335),color='0.9')\n",
    "\n",
    "ax.plot(ds.dayofyear,ds.sigma_0_bot_clima.isel(xi_rho=390,eta_rho=440),color='steelblue',linewidth=1.5)\n",
    "ax.plot(ds.dayofyear,gaussian_filter1d(ds.sigma_0_bot_clima.isel(xi_rho=390,eta_rho=440), 2),color='steelblue',linewidth=5,label='bottom $\\sigma_0$ - Cape Darnley')\n",
    "# ax.plot(ds.dayofyear,ds.sigma_0_bot_clima.isel(xi_rho=390,eta_rho=462),color='C4',linewidth=.5)\n",
    "# ax.plot(ds.dayofyear,gaussian_filter1d(ds.sigma_0_bot_clima.isel(xi_rho=390,eta_rho=462), 2),color='C4',linewidth=2.5,label='bottom $\\sigma_0$ - Burton basin')\n",
    "\n",
    "\n",
    "\n",
    "# plt.rcParams.update({'font.size': 16})\n",
    "# plt.rcParams['xtick.labelsize']=16\n",
    "\n",
    "# ax.text(0.01, 0.99, 'a  mean melt', transform=ax.transAxes,fontsize=14, fontweight='bold', va='top')\n",
    "ax.set_xlim((0,365))\n",
    "# ax.set_ylim((.4e6,1.0e6))\n",
    "ax.set_ylabel('bottom $\\sigma_0$ anomaly (kg/m$^3$)')\n",
    "ax.set_xlabel('day of year')\n",
    "# ax.grid()\n",
    "\n",
    "ax.legend(frameon=False,loc='upper left')\n",
    "ax.set_title('')\n",
    "\n",
    "\n",
    "\n"
   ]
  },
  {
   "cell_type": "code",
   "execution_count": null,
   "id": "c52d3b9c-9486-40c1-9378-20602b975cb1",
   "metadata": {},
   "outputs": [],
   "source": [
    "STOP"
   ]
  },
  {
   "cell_type": "code",
   "execution_count": null,
   "id": "21b0ce93-55be-458a-9ca3-f6cd10780cf1",
   "metadata": {},
   "outputs": [],
   "source": [
    "# now look at heat coming onto shelf\n",
    "target_depth = -400\n",
    "\n",
    "temp400 = grid.transform(ds.temp, 'Z', np.array([target_depth]),target_data=ds.z_rho0,method='linear').squeeze()\n",
    "# salt400_FM = grid.transform(ds.salt, 'Z', np.array([target_depth]),target_data=ds.z_rho0,method='linear').squeeze()\n",
    "\n",
    "temp400_clima = temp400.groupby('ocean_time.dayofyear').mean()"
   ]
  },
  {
   "cell_type": "code",
   "execution_count": null,
   "id": "623325c5-d337-484a-8e3b-f736c62d52d7",
   "metadata": {
    "tags": []
   },
   "outputs": [],
   "source": [
    "from scipy.ndimage import gaussian_filter1d\n",
    "\n",
    "\n",
    "temp400.isel(ocean_time=slice(25,85)).mean(dim='ocean_time').plot(vmin=-2,vmax=-.5)\n",
    "co1 = plt.contour(ds.zice*ds.mask_rho,levels=(-1,0),colors='C2',linestyles='-',linewidths=1)\n",
    "co10 = plt.contour(ds.h*ds.mask_rho,levels=(0,1),colors='k',linestyles='-',linewidths=0.5)\n",
    "co2 = plt.contour(ds.h*ds.mask_rho,levels=(250,500,750,1000,2000),colors='k',linestyles='-',linewidths=0.5)\n",
    "plt.axis((325,475,225,450))\n",
    "plt.plot(450,335,'x',color='C1')\n",
    "plt.plot(408,262,'x',color='C2')\n",
    "plt.show()\n",
    "\n",
    "plt.plot(ds.ocean_time,temp400.isel(xi_rho=450,eta_rho=335),color='C1',linewidth=.5,label='400m temp - outer shelf')\n",
    "plt.plot(ds.ocean_time,gaussian_filter1d(temp400.isel(xi_rho=450,eta_rho=335), 5),color='C1',linewidth=2.5,label='400m temp - outer shelf (5-day filter)')\n",
    "plt.plot(ds.ocean_time,temp400.isel(xi_rho=408,eta_rho=262),color='C2',linewidth=.5,label='400m temp - coast')\n",
    "plt.plot(ds.ocean_time,gaussian_filter1d(temp400.isel(xi_rho=408,eta_rho=262), 5),color='C2',linewidth=2.5,label='400m temp - coast (5-day filter)')\n",
    "plt.show()\n",
    "\n"
   ]
  },
  {
   "cell_type": "code",
   "execution_count": null,
   "id": "250adcff-c38d-4f89-bfeb-c195a097dddc",
   "metadata": {
    "tags": []
   },
   "outputs": [],
   "source": [
    "image_save_dpi = 1000\n",
    "\n",
    "# plt.rcParams['figure.dpi'] = image_save_dpi\n",
    "\n",
    "gs = gridspec.GridSpec(nrows=1,ncols=1,wspace=0.2, hspace=0.2)\n",
    "plt.cla()\n",
    "plt.clf()\n",
    "fig = plt.figure(figsize=[15,5])\n",
    "ax = None\n",
    "\n",
    "ax=fig.add_subplot(gs[0,0])\n",
    "\n",
    "\n",
    "# ax.axvline((32),color='0.9')\n",
    "# ax.axvline((60),color='0.9')\n",
    "ax.axvline((91),color='0.9') #apr\n",
    "# ax.axvline((121),color='0.9')\n",
    "# ax.axvline((152),color='0.9')\n",
    "ax.axvline((182),color='0.9') #july\n",
    "# ax.axvline((213),color='0.9')\n",
    "# ax.axvline((244),color='0.9')\n",
    "ax.axvline((274),color='0.9') #oct\n",
    "# ax.axvline((305),color='0.9')\n",
    "# ax.axvline((335),color='0.9')\n",
    "\n",
    "ax.plot(temp400_clima.dayofyear,temp400_clima.isel(xi_rho=450,eta_rho=335),color='C1',linewidth=1.5)#,label='400m temp - outer shelf')\n",
    "ax.plot(temp400_clima.dayofyear,gaussian_filter1d(temp400_clima.isel(xi_rho=450,eta_rho=335), 5),color='C1',linewidth=5,label='400m temp @ outer shelf')\n",
    "ax.plot(temp400_clima.dayofyear,temp400_clima.isel(xi_rho=408,eta_rho=262),color='lightcoral',linewidth=1.5)#,label='400m temp - coast')\n",
    "ax.plot(temp400_clima.dayofyear,gaussian_filter1d(temp400_clima.isel(xi_rho=408,eta_rho=262), 5),color='lightcoral',linewidth=5,label='400m temp @ coast')\n",
    "\n",
    "\n",
    "\n",
    "# ax.annotate(\"400m temp @ outer shelf\",\n",
    "#             xy=(250,-1), xycoords='data',\n",
    "#             xytext=(250,-1), textcoords='data',\n",
    "#             size=40, va=\"center\", ha=\"center\",\n",
    "#             bbox=dict(boxstyle=\"round4\", fc=\"w\", alpha=0.75))\n",
    "\n",
    "# plt.rcParams.update({'font.size': 16})\n",
    "# plt.rcParams['xtick.labelsize']=16\n",
    "\n",
    "# ax.text(0.01, 0.99, 'a  mean melt', transform=ax.transAxes,fontsize=14, fontweight='bold', va='top')\n",
    "ax.set_xlim((0,365))\n",
    "# ax.set_ylim((.4e6,1.0e6))\n",
    "ax.set_ylabel(r'Temperature ($\\theta$ $^\\circ$C)')\n",
    "ax.set_xlabel('day of year')\n",
    "# ax.grid()\n",
    "ax.legend(frameon=False,loc='upper right')\n",
    "ax.set_title('')"
   ]
  },
  {
   "cell_type": "code",
   "execution_count": null,
   "id": "7d7fc87f-1ba8-4a5e-94cc-df9f8d9ced82",
   "metadata": {
    "tags": []
   },
   "outputs": [],
   "source": []
  },
  {
   "cell_type": "code",
   "execution_count": null,
   "id": "dfd86955-bec9-41a7-bb30-a1e9869b5715",
   "metadata": {
    "tags": []
   },
   "outputs": [],
   "source": [
    "# now melt rate variability\n",
    "ds['m'] = ds.m.where(ds.m<1e35,np.NaN)\n",
    "ds['my'] = ds.m*(60*60*24*365)\n",
    "# ds.my.mean(dim='ocean_time').where(ds.zice<-500).plot(vmin=-10,vmax=10)\n",
    "# time evolution of melt rate\n",
    "\n",
    "ds['my_doy'] = ds.my.groupby('ocean_time.dayofyear').mean()"
   ]
  },
  {
   "cell_type": "code",
   "execution_count": null,
   "id": "282e72bc-e16c-476d-81fb-6210103996e4",
   "metadata": {
    "tags": []
   },
   "outputs": [],
   "source": [
    "image_save_dpi = 1000\n",
    "\n",
    "# plt.rcParams['figure.dpi'] = image_save_dpi\n",
    "\n",
    "gs = gridspec.GridSpec(nrows=1,ncols=1,wspace=0.2, hspace=0.2)\n",
    "plt.cla()\n",
    "plt.clf()\n",
    "fig = plt.figure(figsize=[15,5])\n",
    "ax = None\n",
    "\n",
    "ax=fig.add_subplot(gs[0,0])\n",
    "\n",
    "\n",
    "(ds.my_doy*ds.mask_zice_roi.where(ds.mask_zice_roi,np.NaN)).weighted(weights_area).mean(('eta_rho','xi_rho')).plot(color='C0',linewidth=1.5)#,label='mean melt (zice<500m)')\n",
    "plt.plot(ds.dayofyear,gaussian_filter1d((ds.my_doy*ds.mask_zice_roi.where(ds.mask_zice_roi,np.NaN)).weighted(weights_area).mean(('eta_rho','xi_rho')), 5),color='C0',linewidth=5,label='mean melt')\n",
    "(ds.my_doy*ds.mask_zice_roi.where(ds.zice>-500).where(ds.mask_zice_roi,np.NaN)).weighted(weights_area).mean(('eta_rho','xi_rho')).plot(color='C1',linewidth=1.5)#,label='mean melt (zice>500m)')\n",
    "plt.plot(ds.dayofyear,gaussian_filter1d((ds.my_doy*ds.mask_zice_roi.where(ds.zice>-500).where(ds.mask_zice_roi,np.NaN)).weighted(weights_area).mean(('eta_rho','xi_rho')), 5),color='C1',linewidth=5,label='mean melt (zice>500m)')\n",
    "\n",
    "# plt.rcParams.update({'font.size': 16})\n",
    "# plt.rcParams['xtick.labelsize']=16\n",
    "\n",
    "# ax.text(0.01, 0.99, 'a  mean melt', transform=ax.transAxes,fontsize=14, fontweight='bold', va='top')\n",
    "ax.set_xlim((0,365))\n",
    "# ax.set_ylim((.4e6,1.0e6))\n",
    "ax.set_ylabel(r'melt rate (m/yr)')\n",
    "ax.set_xlabel('day of year')\n",
    "# ax.grid()\n",
    "ax.legend(frameon=False,loc='lower left')\n",
    "ax.set_title('')\n"
   ]
  },
  {
   "cell_type": "code",
   "execution_count": null,
   "id": "6fab591d-a247-400a-9fb7-00c8bf2fdb35",
   "metadata": {
    "tags": []
   },
   "outputs": [],
   "source": [
    "(ds.my_doy*ds.mask_zice_roi.where(ds.mask_zice_roi,np.NaN)).weighted(weights_area).mean(('eta_rho','xi_rho')).mean(dim='dayofyear')\n"
   ]
  },
  {
   "cell_type": "code",
   "execution_count": null,
   "id": "f2d93d89-cfa6-49d6-9238-e7edad55fd86",
   "metadata": {
    "tags": []
   },
   "outputs": [],
   "source": [
    "# isw plume strength\n",
    "import seawater as sw\n",
    "\n",
    "sigma_0_surf = sw.pden(ds.salt.isel(s_rho=-1).values,sw.temp(ds.salt.isel(s_rho=-1).values,ds.temp.isel(s_rho=-1).values,ds.z_rho0.isel(s_rho=-1).values),ds.z_rho0.isel(s_rho=-1).values,0)-1000\n",
    "ds['sigma_0_surf']=(('ocean_time','eta_rho','xi_rho'),sigma_0_surf)\n",
    "\n",
    "\n",
    "mask = np.zeros_like(ds.lon_rho)\n",
    "mask[380:386,318:323]=1\n",
    "\n",
    "\n",
    "ds['sigma_0_surf_clima'] = ds.sigma_0_surf.groupby('ocean_time.dayofyear').mean()"
   ]
  },
  {
   "cell_type": "code",
   "execution_count": null,
   "id": "e831cde7-62e4-4cc5-8fbd-42bdddeeccc1",
   "metadata": {
    "tags": []
   },
   "outputs": [],
   "source": [
    "image_save_dpi = 1000\n",
    "\n",
    "# plt.rcParams['figure.dpi'] = image_save_dpi\n",
    "\n",
    "gs = gridspec.GridSpec(nrows=1,ncols=1,wspace=0.2, hspace=0.2)\n",
    "plt.cla()\n",
    "plt.clf()\n",
    "fig = plt.figure(figsize=[15,5])\n",
    "ax = None\n",
    "\n",
    "ax=fig.add_subplot(gs[0,0])\n",
    "\n",
    "\n",
    "# ax.axvline((32),color='0.9')\n",
    "# ax.axvline((60),color='0.9')\n",
    "ax.axvline((91),color='0.9') #apr\n",
    "# ax.axvline((121),color='0.9')\n",
    "# ax.axvline((152),color='0.9')\n",
    "ax.axvline((182),color='0.9') #july\n",
    "# ax.axvline((213),color='0.9')\n",
    "# ax.axvline((244),color='0.9')\n",
    "ax.axvline((274),color='0.9') #oct\n",
    "# ax.axvline((305),color='0.9')\n",
    "# ax.axvline((335),color='0.9')\n",
    "\n",
    "\n",
    "(ds.my_doy*ds.mask_zice_roi.where(ds.mask_zice_roi,np.NaN)).weighted(weights_area).mean(('eta_rho','xi_rho')).plot(color='orangered',linewidth=1.5)#,label='mean melt (zice<500m)')\n",
    "plt.plot(ds.dayofyear,gaussian_filter1d((ds.my_doy*ds.mask_zice_roi.where(ds.mask_zice_roi,np.NaN)).weighted(weights_area).mean(('eta_rho','xi_rho')), 5),color='orangered',linewidth=5,label='AIS mean melt')\n",
    "# (ds.my_doy*ds.mask_zice_roi.where(ds.zice>-500).where(ds.mask_zice_roi,np.NaN)).weighted(weights_area).mean(('eta_rho','xi_rho')).plot(color='C1',linewidth=.5)#,label='mean melt (zice>500m)')\n",
    "# plt.plot(ds.dayofyear,gaussian_filter1d((ds.my_doy*ds.mask_zice_roi.where(ds.zice>-500).where(ds.mask_zice_roi,np.NaN)).weighted(weights_area).mean(('eta_rho','xi_rho')), 5),color='C1',linewidth=2,label='mean melt (zice>500m)')\n",
    "\n",
    "\n",
    "ax2 = ax.twinx()  # instantiate a second Axes that shares the same x-axis\n",
    "\n",
    "# color = 'tab:blue'\n",
    "# ax2.set_ylabel('sin')#, color=color)  # we already handled the x-label with ax1\n",
    "# ax2.plot(t, data2, color=color)\n",
    "# ax2.tick_params(axis='y', labelcolor=color)\n",
    "\n",
    "ax2.plot(ds.dayofyear,ds.sigma_0_surf_clima.where(mask==1).weighted(weights_area).mean(('eta_rho','xi_rho')),color='skyblue',linewidth=1.5)\n",
    "ax2.plot(ds.dayofyear,gaussian_filter1d(ds.sigma_0_surf_clima.where(mask==1).weighted(weights_area).mean(('eta_rho','xi_rho')),2),color='skyblue',linewidth=5,label='$\\sigma_0$ @ outflow')\n",
    "ax2.set_ylabel('surface $\\sigma_0$ anomay (kg/m$^3$)')\n",
    "\n",
    "\n",
    "\n",
    "# plt.rcParams.update({'font.size': 16})\n",
    "# plt.rcParams['xtick.labelsize']=16\n",
    "\n",
    "# ax.text(0.01, 0.99, 'a  mean melt', transform=ax.transAxes,fontsize=14, fontweight='bold', va='top')\n",
    "ax.set_xlim((0,365))\n",
    "# ax.set_ylim((.4e6,1.0e6))\n",
    "ax.set_ylabel(r'melt rate (m/yr)')\n",
    "ax.set_xlabel('day of year')\n",
    "# ax.grid()\n",
    "\n",
    "lines, labels = ax.get_legend_handles_labels()\n",
    "lines2, labels2 = ax2.get_legend_handles_labels()\n",
    "ax2.legend(lines + lines2, labels + labels2,frameon=False,loc='lower left')\n",
    "\n",
    "# ax.legend(frameon=False,loc='lower left')\n",
    "ax.set_title('')\n",
    "\n"
   ]
  },
  {
   "cell_type": "code",
   "execution_count": null,
   "id": "7bd13f3e-5f38-4aef-b67f-6e4253dae193",
   "metadata": {
    "tags": []
   },
   "outputs": [],
   "source": [
    "frc = xr.open_dataset('../../frc/amery_v2km_tamura+era_shflux.nc')\n",
    "\n"
   ]
  },
  {
   "cell_type": "code",
   "execution_count": null,
   "id": "4930c65f-08df-4139-a9b9-3cfc3d7f902a",
   "metadata": {
    "tags": []
   },
   "outputs": [],
   "source": [
    "\n",
    "\n",
    "# make heat flux plot\n",
    "(frc.shflux*ds.mask_rho*~ds.mask_zice).mean(dim='shf_time').plot(levels=12)\n",
    "co1 = plt.contour(ds.zice*ds.mask_rho,levels=(-1,0),colors='C2',linestyles='-',linewidths=1)\n",
    "co10 = plt.contour(ds.h*ds.mask_rho,levels=(0,1),colors='k',linestyles='-',linewidths=0.5)\n",
    "co2 = plt.contour(ds.h*ds.mask_rho,levels=(250,500,750,1000,2000),colors='k',linestyles='-',linewidths=0.5)\n",
    "plt.axis((300,450,350,600))\n",
    "plt.plot(390,440,'x',color='C1')\n",
    "plt.plot(362,391,'x',color='C2')\n",
    "\n",
    "plt.show()\n",
    "\n",
    "plt.plot(frc.shf_time,frc.shflux.isel(xi_rho=390,eta_rho=440),color='C1',linewidth=.5,label='shflux - CD')\n",
    "plt.plot(frc.shf_time,gaussian_filter1d(frc.shflux.isel(xi_rho=390,eta_rho=440), 5),color='C1',linewidth=2.5,label='shflux - CD (5-day filter)')\n",
    "plt.plot(frc.shf_time,frc.shflux.isel(xi_rho=362,eta_rho=391),color='C2',linewidth=.5,label='shflux - Ma')\n",
    "plt.plot(frc.shf_time,gaussian_filter1d(frc.shflux.isel(xi_rho=362,eta_rho=391), 5),color='C2',linewidth=2.5,label='shflux - Ma (5-day filter)')\n"
   ]
  },
  {
   "cell_type": "code",
   "execution_count": null,
   "id": "28c428ac-9d66-408d-a5f0-bd5bf92320f4",
   "metadata": {
    "tags": []
   },
   "outputs": [],
   "source": [
    "image_save_dpi = 1000\n",
    "\n",
    "# plt.rcParams['figure.dpi'] = image_save_dpi\n",
    "\n",
    "gs = gridspec.GridSpec(nrows=1,ncols=1,wspace=0.2, hspace=0.2)\n",
    "plt.cla()\n",
    "plt.clf()\n",
    "fig = plt.figure(figsize=[15,5])\n",
    "ax = None\n",
    "\n",
    "ax=fig.add_subplot(gs[0,0])\n",
    "\n",
    "\n",
    "# ax.axvline((32),color='0.9')\n",
    "# ax.axvline((60),color='0.9')\n",
    "ax.axvline((91),color='0.9') #apr\n",
    "# ax.axvline((121),color='0.9')\n",
    "# ax.axvline((152),color='0.9')\n",
    "ax.axvline((182),color='0.9') #july\n",
    "# ax.axvline((213),color='0.9')\n",
    "# ax.axvline((244),color='0.9')\n",
    "ax.axvline((274),color='0.9') #oct\n",
    "# ax.axvline((305),color='0.9')\n",
    "# ax.axvline((335),color='0.9')\n",
    "\n",
    "ax.plot(frc.shf_time,frc.shflux.isel(xi_rho=362,eta_rho=391),color='C2',linewidth=1.5)#,label='shflux - Ma')\n",
    "ax.plot(frc.shf_time,gaussian_filter1d(frc.shflux.isel(xi_rho=362,eta_rho=391), 5),color='C2',linewidth=5,label='Mackenzie polynya')\n",
    "ax.plot(frc.shf_time,frc.shflux.isel(xi_rho=390,eta_rho=440),color='steelblue',linewidth=1.5)#,label='shflux - CD')\n",
    "ax.plot(frc.shf_time,gaussian_filter1d(frc.shflux.isel(xi_rho=390,eta_rho=440), 5),color='steelblue',linewidth=5,label='Cape Darnley')\n",
    "\n",
    "\n",
    "\n",
    "# plt.rcParams.update({'font.size': 16})\n",
    "# plt.rcParams['xtick.labelsize']=16\n",
    "\n",
    "# ax.text(0.01, 0.99, 'a  mean melt', transform=ax.transAxes,fontsize=14, fontweight='bold', va='top')\n",
    "ax.set_xlim((0,365))\n",
    "# ax.set_ylim((.4e6,1.0e6))\n",
    "ax.set_ylabel(r'surface heat flux (W/m$^2$)')\n",
    "ax.set_xlabel('day of year')\n",
    "# ax.grid()\n",
    "\n",
    "ax.legend(frameon=False,loc='lower left')\n",
    "ax.set_title('')\n",
    "\n"
   ]
  },
  {
   "cell_type": "code",
   "execution_count": null,
   "id": "f5b4a5de-9658-425e-bfbf-75896398df2e",
   "metadata": {
    "tags": []
   },
   "outputs": [],
   "source": [
    "# make bottom density \n",
    "sigma_0_bot = sw.pden(ds.salt.isel(s_rho=0).values,sw.temp(ds.salt.isel(s_rho=0).values,ds.temp.isel(s_rho=0).values,ds.z_rho0.isel(s_rho=0).values),ds.z_rho0.isel(s_rho=0).values,0)-1000\n",
    "ds['sigma_0_bot']=(('ocean_time','eta_rho','xi_rho'),sigma_0_bot)\n",
    "\n",
    "\n",
    "ds['sigma_0_bot_clima'] = ds.sigma_0_bot.groupby('ocean_time.dayofyear').mean()"
   ]
  },
  {
   "cell_type": "code",
   "execution_count": null,
   "id": "37adf43d-8723-4dec-bcac-1d945c820825",
   "metadata": {
    "tags": []
   },
   "outputs": [],
   "source": [
    "image_save_dpi = 1000\n",
    "\n",
    "# plt.rcParams['figure.dpi'] = image_save_dpi\n",
    "\n",
    "gs = gridspec.GridSpec(nrows=1,ncols=1,wspace=0.2, hspace=0.2)\n",
    "plt.cla()\n",
    "plt.clf()\n",
    "fig = plt.figure(figsize=[15,5])\n",
    "ax = None\n",
    "\n",
    "ax=fig.add_subplot(gs[0,0])\n",
    "\n",
    "\n",
    "\n",
    "# ax.axvline((32),color='0.9')\n",
    "# ax.axvline((60),color='0.9')\n",
    "ax.axvline((91),color='0.9') #apr\n",
    "# ax.axvline((121),color='0.9')\n",
    "# ax.axvline((152),color='0.9')\n",
    "ax.axvline((182),color='0.9') #july\n",
    "# ax.axvline((213),color='0.9')\n",
    "# ax.axvline((244),color='0.9')\n",
    "ax.axvline((274),color='0.9') #oct\n",
    "# ax.axvline((305),color='0.9')\n",
    "# ax.axvline((335),color='0.9')\n",
    "\n",
    "ax.plot(ds.dayofyear,ds.sigma_0_bot_clima.isel(xi_rho=390,eta_rho=440),color='steelblue',linewidth=1.5)\n",
    "ax.plot(ds.dayofyear,gaussian_filter1d(ds.sigma_0_bot_clima.isel(xi_rho=390,eta_rho=440), 2),color='steelblue',linewidth=5,label='bottom $\\sigma_0$ - Cape Darnley')\n",
    "# ax.plot(ds.dayofyear,ds.sigma_0_bot_clima.isel(xi_rho=390,eta_rho=462),color='C4',linewidth=.5)\n",
    "# ax.plot(ds.dayofyear,gaussian_filter1d(ds.sigma_0_bot_clima.isel(xi_rho=390,eta_rho=462), 2),color='C4',linewidth=2.5,label='bottom $\\sigma_0$ - Burton basin')\n",
    "\n",
    "\n",
    "\n",
    "# plt.rcParams.update({'font.size': 16})\n",
    "# plt.rcParams['xtick.labelsize']=16\n",
    "\n",
    "# ax.text(0.01, 0.99, 'a  mean melt', transform=ax.transAxes,fontsize=14, fontweight='bold', va='top')\n",
    "ax.set_xlim((0,365))\n",
    "# ax.set_ylim((.4e6,1.0e6))\n",
    "ax.set_ylabel('bottom $\\sigma_0$ anomaly (kg/m$^3$)')\n",
    "ax.set_xlabel('day of year')\n",
    "# ax.grid()\n",
    "\n",
    "ax.legend(frameon=False,loc='upper left')\n",
    "ax.set_title('')\n",
    "\n",
    "\n",
    "\n"
   ]
  },
  {
   "cell_type": "code",
   "execution_count": null,
   "id": "5ab85ca9-6b18-423d-916a-5694390ecc83",
   "metadata": {},
   "outputs": [],
   "source": []
  },
  {
   "cell_type": "code",
   "execution_count": null,
   "id": "3865bb75-3f45-41f1-8c12-1aeb6b95586a",
   "metadata": {},
   "outputs": [],
   "source": []
  },
  {
   "cell_type": "code",
   "execution_count": null,
   "id": "f5c7c01a-d5d5-481f-883c-032cddd59e65",
   "metadata": {},
   "outputs": [],
   "source": []
  }
 ],
 "metadata": {
  "kernelspec": {
   "display_name": "Python 3 (ipykernel)",
   "language": "python",
   "name": "python3"
  },
  "language_info": {
   "codemirror_mode": {
    "name": "ipython",
    "version": 3
   },
   "file_extension": ".py",
   "mimetype": "text/x-python",
   "name": "python",
   "nbconvert_exporter": "python",
   "pygments_lexer": "ipython3",
   "version": "3.11.5"
  }
 },
 "nbformat": 4,
 "nbformat_minor": 5
}
